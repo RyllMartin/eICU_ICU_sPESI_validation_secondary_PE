{
 "cells": [
  {
   "cell_type": "code",
   "execution_count": 2,
   "id": "7dd8788d-78f9-4c56-8faf-be79ea516f5f",
   "metadata": {
    "tags": []
   },
   "outputs": [],
   "source": [
    "# Import the necessary python modules\n",
    "import pandas as pd # v.1.4.3\n",
    "import numpy as np # v.1.23.0\n",
    "\n",
    "from tqdm import tqdm # v.4.65.0\n",
    "\n",
    "import math # python v.3.9.0"
   ]
  },
  {
   "cell_type": "markdown",
   "id": "031f1f5c-04ad-448b-a06d-b8533cf3bf56",
   "metadata": {},
   "source": [
    "# Finding patients with a primary PE admission diagnosis\n"
   ]
  },
  {
   "cell_type": "markdown",
   "id": "f57692f1-b155-4f29-84ff-c33b1819c915",
   "metadata": {},
   "source": [
    "Selecting all ICU-stays that had Pulmonary Embolism (PE) as their main (APACHE) admission diagnosis:"
   ]
  },
  {
   "cell_type": "code",
   "execution_count": 3,
   "id": "c0811bdb-3a1f-47ed-9563-642b6d6a1484",
   "metadata": {
    "tags": []
   },
   "outputs": [],
   "source": [
    "df_pat_big = pd.read_csv(\"../../eICU_data/patient.csv\", low_memory=False)"
   ]
  },
  {
   "cell_type": "code",
   "execution_count": 4,
   "id": "939c9d41-321d-4814-bc0d-ad5503b2f065",
   "metadata": {
    "tags": []
   },
   "outputs": [
    {
     "data": {
      "text/plain": [
       "['Embolus, pulmonary']"
      ]
     },
     "execution_count": 4,
     "metadata": {},
     "output_type": "execute_result"
    }
   ],
   "source": [
    "[i for i in df_pat_big.apacheadmissiondx.value_counts().index.to_numpy() if \"Embolus\" in i]"
   ]
  },
  {
   "cell_type": "code",
   "execution_count": 5,
   "id": "b48500c1-990e-4e40-a018-58ea4746a6e6",
   "metadata": {
    "tags": []
   },
   "outputs": [
    {
     "data": {
      "text/plain": [
       "1697"
      ]
     },
     "execution_count": 5,
     "metadata": {},
     "output_type": "execute_result"
    }
   ],
   "source": [
    "df_pat_big_pe = df_pat_big[df_pat_big.apacheadmissiondx == \"Embolus, pulmonary\"].copy()\n",
    "lst_pat_primary = df_pat_big_pe.patientunitstayid.to_list()\n",
    "len(lst_pat_primary)"
   ]
  },
  {
   "cell_type": "markdown",
   "id": "5aee23ad-3eea-41ce-ac6e-21c54f30b704",
   "metadata": {},
   "source": [
    "&rarr; 1697 ICU-admissions with a primary diagnosis of PE"
   ]
  },
  {
   "cell_type": "markdown",
   "id": "79fbf187-011e-4d6b-81e4-745d076d752b",
   "metadata": {
    "tags": []
   },
   "source": [
    "# Cohort selection Secondary PE"
   ]
  },
  {
   "cell_type": "code",
   "execution_count": 6,
   "id": "9702814e-a2ea-43c3-ac36-37fe6e590dda",
   "metadata": {
    "tags": []
   },
   "outputs": [],
   "source": [
    "df_diagnosis_all = pd.read_csv(\"../../eICU_data/diagnosis.csv\", low_memory=False)"
   ]
  },
  {
   "cell_type": "code",
   "execution_count": 7,
   "id": "f2393a04-da49-4356-90e6-387f78b0b252",
   "metadata": {
    "tags": []
   },
   "outputs": [
    {
     "data": {
      "text/plain": [
       "1276"
      ]
     },
     "execution_count": 7,
     "metadata": {},
     "output_type": "execute_result"
    }
   ],
   "source": [
    "# finding patients with a diagnosis of PE documented during their ICU-stay\n",
    "df_diagnosis_all_pe = df_diagnosis_all[(df_diagnosis_all.diagnosisstring.str.contains(\"pulmonary embolism\", case=False)) & \n",
    "                                       (~df_diagnosis_all.diagnosisstring.str.contains(\"r/o pulmonary embolism\", case=False, regex=False))].copy()\n",
    "\n",
    "# exclude all patients that had a primary PE admission diagnosis\n",
    "df_diagnosis_secondary_PE = df_diagnosis_all_pe[~df_diagnosis_all_pe.patientunitstayid.isin(lst_pat_primary)]\n",
    "\n",
    "lst_secondary_pe = list(df_diagnosis_secondary_PE.patientunitstayid.unique())\n",
    "len(lst_secondary_pe)"
   ]
  },
  {
   "cell_type": "code",
   "execution_count": 8,
   "id": "cd5d5810-e968-438c-a76a-3e7657163330",
   "metadata": {
    "tags": []
   },
   "outputs": [],
   "source": [
    "# time of diagnosis of PE\n",
    "first_pe_diag_secondary_pe = df_diagnosis_secondary_PE.groupby('patientunitstayid')['diagnosisoffset'].min().reset_index()\n",
    "dict_sec_pe_times = dict(zip(first_pe_diag_secondary_pe[\"patientunitstayid\"], first_pe_diag_secondary_pe[\"diagnosisoffset\"]))"
   ]
  },
  {
   "cell_type": "code",
   "execution_count": 9,
   "id": "0a880226-a81d-4dc3-b34a-b9e8dcd5aa85",
   "metadata": {},
   "outputs": [],
   "source": [
    "# the data shall be from the 24h around the secondary PE diagnosis time -> 12h before/12h. But if the secondary PE was diagnosed before 12h (720 min) into the ICU stay, then,\n",
    "# for the calculations, this midpoint has to be shifted to 720 minutes to allow this interval\n",
    "dict_sec_pe_adjusted = {}\n",
    "    \n",
    "minutes = (24 * 60 ) / 2\n",
    "\n",
    "for k, v in dict_sec_pe_times.items():\n",
    "    if v < minutes:\n",
    "        dict_sec_pe_adjusted[k] = int(minutes)\n",
    "    else:\n",
    "        dict_sec_pe_adjusted[k] = v"
   ]
  },
  {
   "cell_type": "markdown",
   "id": "401999fc-426c-4e34-b80e-7cb2e19f9e17",
   "metadata": {},
   "source": [
    "# Reducing the file sizes"
   ]
  },
  {
   "cell_type": "markdown",
   "id": "ee36cc0c-5f8c-4cf0-a67c-e41683a6ab45",
   "metadata": {},
   "source": [
    "As the original file sizes are quite large, we take a copy of all files with just the information of our PE patients. This will speed up data extraction/calculations down the line"
   ]
  },
  {
   "cell_type": "markdown",
   "id": "1582c6f3-ab71-46a7-b1b5-e4bbb811e9d1",
   "metadata": {
    "jp-MarkdownHeadingCollapsed": true,
    "tags": []
   },
   "source": [
    "## Function"
   ]
  },
  {
   "cell_type": "code",
   "execution_count": 10,
   "id": "e2f14f84-198b-4b57-9d66-20de1d65f44e",
   "metadata": {
    "tags": []
   },
   "outputs": [],
   "source": [
    "def make_reduced_files(import_path, export_path, notation, lst_ids):\n",
    "    \"\"\"\n",
    "    Takes an import path (folder where all the eICU files are), an export path, a \"notation\" (will be added behind the file name as an identifier) and a list of ids, and then returns the reduced\n",
    "    files of eICU for only that population (except for the hospital table).\n",
    "\n",
    "    :param import_path: String - Folder where all the eICU data is stored.\n",
    "    \n",
    "    :param export_path: String - Should only include the folder, not the filename, and should end with \"/\".\n",
    "\n",
    "    :param notation: String - Short notation that will be added to each file name for future identification.\n",
    "\n",
    "    :param lst_ids: List - List of target population patientunitstayids.\n",
    "\n",
    "    :return: Saves a list of abbreviated dataframes to the specified export_path.\n",
    "    \"\"\"\n",
    "\n",
    "    # List of all tables in the eICU database, except the hospital table as it is not connected to patientunitstayid\n",
    "    lst_tables = [\"admissionDrug\", \"admissionDx\", \"allergy\", \"apacheApsVar\", \"apachePatientResult\", \"apachePredVar\",\n",
    "                  \"carePlanCareProvider\", \"carePlanEOL\", \"carePlanGeneral\", \"carePlanGoal\", \"carePlanInfectiousDisease\", \"customLab\",\n",
    "                  \"diagnosis\", \"infusionDrug\", \"intakeOutput\", \"lab\", \"medication\", \"microLab\", \"note\",\n",
    "                  \"nurseAssessment\", \"nurseCare\", \"nurseCharting\", \"pastHistory\", \"patient\", \"physicalExam\",\n",
    "                  \"respiratoryCare\", \"respiratoryCharting\", \"treatment\", \"vitalAperiodic\", \"vitalPeriodic\"]\n",
    "\n",
    "    # Looping over all tables, selecting only the data pertaining to the cohort of interest and then saving these files in a specified location\n",
    "    for table in tqdm(lst_tables):\n",
    "        df_chunk = pd.read_csv(f\"{import_path}{table}.csv\", chunksize=100000, low_memory=False)\n",
    "        lst_dataframes = []\n",
    "        \n",
    "        for chunk in df_chunk:\n",
    "            df_temp = chunk[chunk[\"patientunitstayid\"].isin(lst_ids)]\n",
    "            lst_dataframes.append(df_temp)\n",
    "\n",
    "        df_small = pd.concat(lst_dataframes)\n",
    "        df_small.to_csv(f\"{export_path}{table}_{notation}.csv\", index=False)"
   ]
  },
  {
   "cell_type": "markdown",
   "id": "25e0bb9f-c2a4-47ff-8e2a-0454e6d97369",
   "metadata": {},
   "source": [
    "## Implementation"
   ]
  },
  {
   "cell_type": "code",
   "execution_count": 11,
   "id": "f69fb634-87e9-42c2-8991-284e4afd729a",
   "metadata": {
    "tags": []
   },
   "outputs": [],
   "source": [
    "#make_reduced_files(\n",
    "#    import_path = \"../../eICU_data/\",\n",
    "#    export_path = \"sec_PE_data/\",\n",
    "#    notation = \"sec_PE\",\n",
    "#    lst_ids = lst_secondary_pe\n",
    "#)"
   ]
  },
  {
   "cell_type": "markdown",
   "id": "ef218ec8-71ab-4e5e-a6f9-3d1bc52f8970",
   "metadata": {},
   "source": [
    "To make this code work in your environment, the complete unpacked eICU data has to be located at the relative path \"../../eICU_data/\" in your project.\n",
    "\n",
    "Now all of the data for our PE patients is in the folder at the relative path \"sec_PE_data/\" and can be accessed from there.\n"
   ]
  },
  {
   "cell_type": "markdown",
   "id": "ee9f8aaf-125d-40e1-9d90-bd9faaa1c0c0",
   "metadata": {
    "tags": []
   },
   "source": [
    "# Data extraction\n"
   ]
  },
  {
   "cell_type": "markdown",
   "id": "01df4458-a969-41e7-bd46-79045dd8c706",
   "metadata": {
    "tags": []
   },
   "source": [
    "## Functions"
   ]
  },
  {
   "cell_type": "code",
   "execution_count": 12,
   "id": "2487ee75-5446-48b7-91ee-3de2480c8fe8",
   "metadata": {
    "tags": []
   },
   "outputs": [],
   "source": [
    "def get_basic_patient_info(df_pat, lst_ids):\n",
    "    \"\"\"\n",
    "    Takes the patient dataframe of the eICU database, a list of target patientunitstayids and\n",
    "    returns a dataframe with \"cleaned\" info per patientunitstayid.\n",
    "\n",
    "    :param df_pat: DataFrame - Patient dataframe of eICU (or abbreviated). \n",
    "\n",
    "    :param lst_ids: List - List of the population patientunitstayids.\n",
    "\n",
    "    :return: DataFrame with the information.\n",
    "    \"\"\"\n",
    "\n",
    "    lst_columns = [\"patientunitstayid\", \"uniquepid\", \"gender\", \"age\", \"ethnicity\", \"hospitalid\", \"wardid\",\n",
    "                   \"unittype\", \"apacheadmissiondx\", \"admissionheight\", \"admissionweight\", \"hospitaldischargestatus\",\n",
    "                   'hospitaladmittime24', \"hospitaladmitsource\", \"hospitaldischargelocation\", 'unitadmittime24',\n",
    "                   'unitadmitsource', 'unitstaytype', 'dischargeweight', 'unitdischargelocation', 'unitdischargestatus', \"unitvisitnumber\"]\n",
    "\n",
    "    # reducing the general pat_df to reduce the computational load\n",
    "    df_temp = df_pat.loc[df_pat[\"patientunitstayid\"].isin(lst_ids), lst_columns].copy()\n",
    "\n",
    "    # gender column\n",
    "    df_temp[\"gender\"] = df_temp[\"gender\"].replace({\"Unknown\": np.nan, \"Other\": np.nan})\n",
    "\n",
    "    # age column\n",
    "    df_temp[\"age\"] = df_temp[\"age\"].replace(\"> 89\", \"90\")\n",
    "    df_temp[\"age\"] = pd.to_numeric(df_temp[\"age\"])\n",
    "    \n",
    "    df_final = df_temp[[\"patientunitstayid\", \"apacheadmissiondx\", \"gender\", \"age\", \"ethnicity\", \n",
    "                        \"hospitaldischargestatus\", \"unitdischargestatus\"]].copy()\n",
    "\n",
    "    return df_final"
   ]
  },
  {
   "cell_type": "code",
   "execution_count": 13,
   "id": "89656540-491a-4bd8-b5b0-44a94d481ce9",
   "metadata": {
    "tags": []
   },
   "outputs": [],
   "source": [
    "def apply_group_pmh_subcat(x, df, clm_name):\n",
    "    df_one_id = df.loc[(df.patientunitstayid == x), [clm_name]]\n",
    "    lst_diagnoses = df_one_id[clm_name].unique().tolist()\n",
    "    final_string = \"|\".join(lst_diagnoses)\n",
    "    return final_string\n",
    "\n",
    "def apply_split_and_rejoin_for_output(str_pmh):\n",
    "    lst_strings = str_pmh.split(\"/\")\n",
    "    lst_final = lst_strings[6:]\n",
    "\n",
    "    if len(lst_final) == 1:\n",
    "        return lst_final[0]\n",
    "\n",
    "    if len(lst_final) > 1:\n",
    "        joined = \"/\".join(lst_final)\n",
    "        return joined\n",
    "\n",
    "def get_pastHistory(df_pmh, lst_ids):\n",
    "    \"\"\"\n",
    "    Receives the pastHistory Dataframe from eICU or abbreviated and a list of target patientunitstayids and returns\n",
    "    a kind of longformat dataframe with the most important categories/PMH.\n",
    "\n",
    "    :param df_pmh: DataFrame - pastHistory dataframe from eICU. \n",
    "\n",
    "    :param lst_ids: List - list of patientunitstayids from the target population.\n",
    "\n",
    "    :return: DataFrame with patientunitstayids as the index and columns for each category of PMH\n",
    "    \"\"\"\n",
    "    \n",
    "    # Dictionary of prospective column names (key) and the string keys to the PMH-string-path of each disease (values)\n",
    "    dict_subcat_clms = {\n",
    "        'pmh_HT_with_treatment': ['notes/Progress Notes/Past History/Organ Systems/Cardiovascular', 'Hypertension Requiring Treatment'],\n",
    "        'pmh_cancer': ['notes/Progress Notes/Past History/Organ Systems/Hematology-Oncology', 'Cancer'],\n",
    "        'pmh_non_insulin_dep_DM': ['notes/Progress Notes/Past History/Organ Systems/Endocrine', 'Non-Insulin Dependent Diabetes'],\n",
    "        'pmh_COPD': ['notes/Progress Notes/Past History/Organ Systems/Pulmonary', 'COPD'],\n",
    "        'pmh_CHF': ['notes/Progress Notes/Past History/Organ Systems/Cardiovascular', 'Congestive Heart Failure'],\n",
    "        'pmh_insulin_dep_DM': ['notes/Progress Notes/Past History/Organ Systems/Endocrine', 'Insulin Dependent Diabetes'],\n",
    "        'pmh_arrhythmias': ['notes/Progress Notes/Past History/Organ Systems/Cardiovascular', 'Arrhythmias'],\n",
    "        'pmh_hypothyroidism': ['notes/Progress Notes/Past History/Organ Systems/Endocrine', 'Hypothyroidism'],\n",
    "        'pmh_MI': ['notes/Progress Notes/Past History/Organ Systems/Cardiovascular', 'Myocardial Infarction'],\n",
    "        'pmh_strokes': ['notes/Progress Notes/Past History/Organ Systems/Neurologic', 'Strokes'],\n",
    "        'pmh_renal_insuff': ['notes/Progress Notes/Past History/Organ Systems/Renal', 'Renal Insufficiency'],\n",
    "        'pmh_PCI': ['notes/Progress Notes/Past History/Organ Systems/Cardiovascular', 'Procedural Coronary Intervention'],\n",
    "        'pmh_card_valvular': ['notes/Progress Notes/Past History/Organ Systems/Cardiovascular', 'Valve disease'],\n",
    "        'pmh_asthma': ['notes/Progress Notes/Past History/Organ Systems/Pulmonary', 'Asthma'],\n",
    "        'pmh_liver_cirrhosis': ['notes/Progress Notes/Past History/Organ Systems/Gastrointestinal', 'Cirrhosis'],\n",
    "        'pmh_renal_failure': ['notes/Progress Notes/Past History/Organ Systems/Renal', 'Renal Failure'],\n",
    "        'pmh_CA_bypass': ['notes/Progress Notes/Past History/Organ Systems/Cardiovascular', 'Coronary Artery Bypass'],\n",
    "        'pmh_seizures': ['notes/Progress Notes/Past History/Organ Systems/Neurologic', 'Seizures'],\n",
    "        'pmh_periph_vasc_disease': ['notes/Progress Notes/Past History/Organ Systems/Cardiovascular', 'Peripheral Vascular Disease'],\n",
    "        'pmh_home_o2': ['notes/Progress Notes/Past History/Organ Systems/Pulmonary', 'Home Oxygen'],\n",
    "        'pmh_venous_thrombosis': ['notes/Progress Notes/Past History/Organ Systems/Cardiovascular', 'Venous Thrombosis'],\n",
    "        'pmh_dementia': ['notes/Progress Notes/Past History/Organ Systems/Neurologic', 'Dementia'],\n",
    "        'pmh_pacemaker': ['notes/Progress Notes/Past History/Organ Systems/Cardiovascular', 'Pacemaker'],\n",
    "        'pmh_cancer_therapy': ['notes/Progress Notes/Past History/Organ Systems/Hematology-Oncology', 'Cancer Therapy'],\n",
    "        'pmh_angina': ['notes/Progress Notes/Past History/Organ Systems/Cardiovascular', 'Angina'],\n",
    "        'pmh_peptic_ulcer_disease': ['notes/Progress Notes/Past History/Organ Systems/Gastrointestinal', 'Peptic Ulcer Disease'],\n",
    "        'pmh_TIAs': ['notes/Progress Notes/Past History/Organ Systems/Neurologic', 'TIAs'],\n",
    "        'pmh_PFTs': ['notes/Progress Notes/Past History/Organ Systems/Pulmonary', 'Pulmonary Function Tests'],\n",
    "        'pmh_resp_failure': ['notes/Progress Notes/Past History/Organ Systems/Pulmonary', 'Respiratory Failure'],\n",
    "        'pmh_AICD': ['notes/Progress Notes/Past History/Organ Systems/Cardiovascular', 'AICD'],\n",
    "        'pmh_PE': ['notes/Progress Notes/Past History/Organ Systems/Cardiovascular', 'Pulmonary Embolism'],\n",
    "        'pmh_RA': ['notes/Progress Notes/Past History/Organ Systems/Rheumatic', 'Rheumatoid Arthritis'],\n",
    "        'pmh_mmunosuppression_last_6m': ['notes/Progress Notes/Past History/Organ Systems/Infectious Disease', 'Immunosuppression within past 6 months'],\n",
    "        'pmh_chronic_kidney_stones': ['notes/Progress Notes/Past History/Organ Systems/Renal', 'Chronic Stone Disease'],\n",
    "        'pmh_neuromusk_disease': ['notes/Progress Notes/Past History/Organ Systems/Neurologic', 'Neuromuscular Disease'],\n",
    "        'pmh_restrictive_lung_disease': ['notes/Progress Notes/Past History/Organ Systems/Pulmonary', 'Restrictive Disease'],\n",
    "        'pmh_s_p_NTx': ['notes/Progress Notes/Past History/Organ Systems/Renal', 's_p Renal Transplant'],\n",
    "        'pmh_HIV_only': ['notes/Progress Notes/Past History/Organ Systems/Infectious Disease', 'HIV only'],\n",
    "        'pmh_hemolytic _anemia': ['notes/Progress Notes/Past History/Organ Systems/Hematology-Oncology', 'Hemolytic Anemia'],\n",
    "        'pmh_SLE': ['notes/Progress Notes/Past History/Organ Systems/Rheumatic', 'SLE'],\n",
    "        'pmh_exercise_tolerance': ['notes/Progress Notes/Past History/Organ Systems/Cardiovascular', 'Exercise Tolerance'],\n",
    "        'pmh_intracranial_mass': ['notes/Progress Notes/Past History/Organ Systems/Neurologic', 'Intracranial Mass'],\n",
    "        'pmh_hyperthyroidism': ['notes/Progress Notes/Past History/Organ Systems/Endocrine', 'Hyperthyroidism'],\n",
    "        'pmh_recent_steroids_>10d': ['notes/Progress Notes/Past History/Organ Systems/Endocrine', 'Recent Steroid Use for > 10 days'],\n",
    "        'pmh__petite_mal_seizures': ['notes/Progress Notes/Past History/Organ Systems/Neurologic', 'Seizures_petite mal seizures'],\n",
    "        'pmh_s_p_LTx': ['notes/Progress Notes/Past History/Organ Systems/Gastrointestinal', 's_p Liver Transplant'],\n",
    "        'pmh_hypercoagulable_condition': ['notes/Progress Notes/Past History/Organ Systems/Hematology-Oncology', 'Hypercoagulable Condition'],\n",
    "        'pmh_ITP': ['notes/Progress Notes/Past History/Organ Systems/Hematology-Oncology', 'ITP'],\n",
    "        'pmh_neurogenic_bladder': ['notes/Progress Notes/Past History/Organ Systems/Renal ', 'Neurogenic Bladder'],\n",
    "        'pmh_sickle_cells': ['notes/Progress Notes/Past History/Organ Systems/Hematology-Oncology', 'Sickle Cell Disease'],\n",
    "        'pmh_clotting_disorder': ['notes/Progress Notes/Past History/Organ Systems/Hematology-Oncology', 'Clotting Disorder'],\n",
    "        'pmh_AIDS': ['notes/Progress Notes/Past History/Organ Systems/Infectious Disease', 'AIDS'],\n",
    "        'pmh_sarcoidosis': ['notes/Progress Notes/Past History/Organ Systems/Pulmonary', 'Sarcoidosis'],\n",
    "        'pmh_vasculitis': ['notes/Progress Notes/Past History/Organ Systems/Rheumatic', 'Vasculitis'],\n",
    "        'pmh_myeloproliferative_disease': ['notes/Progress Notes/Past History/Organ Systems/Hematology-Oncology', 'Myeloproliferative Disease'],\n",
    "        'pmh_s_p_HTx': ['notes/Progress Notes/Past History/Organ Systems/Cardiovascular', 's_p Heart Transplant'],\n",
    "        'pmh_aplastic_anemia': ['notes/Progress Notes/Past History/Organ Systems/Hematology-Oncology', 'Aplastic Anemia'],\n",
    "        'pmh_hypercalcemia': ['notes/Progress Notes/Past History/Organ Systems/Endocrine', 'Hypercalcemia'],\n",
    "        'pmh_hypersplenism': ['notes/Progress Notes/Past History/Organ Systems/Gastrointestinal', 'Hypersplenism'],\n",
    "        'pmh_scleroderma': ['notes/Progress Notes/Past History/Organ Systems/Rheumatic', 'Scleroderma'],\n",
    "        'pmh_RTA': ['notes/Progress Notes/Past History/Organ Systems/Renal', 'RTA'],\n",
    "        'pmh_s_p_lungTx': ['notes/Progress Notes/Past History/Organ Systems/Pulmonary', 's_p Lung Transplant'],\n",
    "        \"pmh_cushings\": [\"notes/Progress Notes/Past History/Organ Systems/Endocrine\", \"Cushing's Syndrome\"],\n",
    "        'pmh_dermato': ['notes/Progress Notes/Past History/Organ Systems/Rheumatic', 'Dermato']\n",
    "    }\n",
    "    \n",
    "    # reducing the general pastHistory df to reduce the computational load\n",
    "    df_temp = df_pmh.loc[df_pmh[\"patientunitstayid\"].isin(lst_ids), [\"patientunitstayid\", \"pasthistorypath\", \"pasthistoryvalue\"]].copy()\n",
    "\n",
    "    # Replace substrings in pasthistorypath (which would cause issues due to regex expressions later on)\n",
    "    df_temp[\"pasthistorypath\"] = df_temp[\"pasthistorypath\"].str.replace(\"Hematology/Oncology\", \"Hematology-Oncology\",\n",
    "                                                                        regex=True)\n",
    "\n",
    "    df_pmh[\"pasthistorypath\"] = df_pmh[\"pasthistorypath\"].str.replace(\"s/p\", \"s_p\",\n",
    "                                                                      regex=True)\n",
    "\n",
    "    df_pmh[\"pasthistorypath\"] = df_pmh[\"pasthistorypath\"].str.replace(\"TIA(s)\", \"TIAs\",\n",
    "                                                                      regex=True)\n",
    "\n",
    "    df_pmh[\"pasthistorypath\"] = df_pmh[\"pasthistorypath\"].str.replace(\"HIV (only)\", \"HIV only\",\n",
    "                                                                      regex=True)\n",
    "\n",
    "    df_pmh[\"pasthistorypath\"] = df_pmh[\"pasthistorypath\"].str.replace(\"Recent Steroid Use (for > 10 days)\", \"Recent Steroid Use for > 10 days\",\n",
    "                                                                      regex=True)\n",
    "\n",
    "    # list for the future columns\n",
    "    lst_columns = []\n",
    "\n",
    "    # Iterate over the individual diseases and check whether a patient has this PMH or not then saving this as a column to the list\n",
    "    for clm_name, key_phrases in tqdm(dict_subcat_clms.items()):\n",
    "        key1 = key_phrases[0]\n",
    "        key2 = key_phrases[1]\n",
    "\n",
    "        df_new_clm_raw = df_temp.loc[(df_temp['pasthistorypath'].str.contains(key1, na=False)) &\n",
    "                                     (df_temp['pasthistorypath'].str.contains(key2, na=False)), [\"patientunitstayid\", \"pasthistorypath\"]].copy().drop_duplicates()\n",
    "\n",
    "        df_new_clm_raw[\"output_pmh_path\"] = df_new_clm_raw[\"pasthistorypath\"].apply(lambda x: apply_split_and_rejoin_for_output(x))\n",
    "\n",
    "        df_new_clm_reference = df_new_clm_raw.copy()\n",
    "\n",
    "        df_new_clm_raw[clm_name] = df_new_clm_raw[\"patientunitstayid\"].apply(lambda x: apply_group_pmh_subcat(x, df_new_clm_reference, \"output_pmh_path\"))\n",
    "\n",
    "        df_pat_w_data = df_new_clm_raw.loc[:, [\"patientunitstayid\", clm_name]].copy().drop_duplicates()\n",
    "\n",
    "        lst_pat_w_data = list(df_new_clm_raw.patientunitstayid.unique())\n",
    "        lst_pat_no_data = [x for x in lst_ids if x not in lst_pat_w_data]\n",
    "\n",
    "        df_pat_without_data = pd.DataFrame(lst_pat_no_data, columns=['patientunitstayid'])\n",
    "        df_pat_without_data[clm_name] = 0\n",
    "\n",
    "        df_clm_final = pd.concat([df_pat_w_data, df_pat_without_data])\n",
    "        df_clm_final = df_clm_final.set_index(\"patientunitstayid\")\n",
    "\n",
    "        lst_columns.append(df_clm_final)\n",
    "\n",
    "    # Concatenate all the columns and export this with the ids as another column  \n",
    "    df_final = pd.concat(lst_columns, axis=1)\n",
    "    df_final = df_final.reset_index()\n",
    "    df_final = df_final[['patientunitstayid', 'pmh_HT_with_treatment', 'pmh_cancer',\n",
    "       'pmh_non_insulin_dep_DM', 'pmh_COPD', 'pmh_CHF', 'pmh_insulin_dep_DM',\n",
    "       'pmh_arrhythmias', 'pmh_MI', 'pmh_strokes', \"pmh_hypothyroidism\", \n",
    "       'pmh_renal_insuff', 'pmh_PCI', 'pmh_card_valvular', 'pmh_asthma',\n",
    "       'pmh_liver_cirrhosis', 'pmh_renal_failure', 'pmh_CA_bypass',\n",
    "       'pmh_seizures', 'pmh_periph_vasc_disease', 'pmh_home_o2',\n",
    "       'pmh_venous_thrombosis', 'pmh_dementia', 'pmh_pacemaker',\n",
    "       'pmh_cancer_therapy', 'pmh_angina', \n",
    "       'pmh_TIAs', 'pmh_resp_failure', 'pmh_AICD', 'pmh_PE',\n",
    "       'pmh_neuromusk_disease', 'pmh_restrictive_lung_disease', 'pmh_hemolytic _anemia', 'pmh_intracranial_mass',\n",
    "       'pmh_hyperthyroidism', 'pmh__petite_mal_seizures', 'pmh_hypercoagulable_condition', 'pmh_ITP', \n",
    "       'pmh_sickle_cells', 'pmh_clotting_disorder','pmh_aplastic_anemia', 'pmh_s_p_lungTx']]\n",
    "\n",
    "    return df_final"
   ]
  },
  {
   "cell_type": "code",
   "execution_count": 14,
   "id": "704f84ac-b438-4ed3-b389-8205967f2629",
   "metadata": {
    "tags": []
   },
   "outputs": [],
   "source": [
    "def get_and_initial_clean_apacheApsVar(df_apsVar, lst_ids):\n",
    "    \"\"\"\n",
    "    Receives the apacheApsVar Dataframe of the eICU database or abbreviated and a list of target patientunitstayids and\n",
    "    returns a dataframe with initially \"cleaned\" data: The -1 Values in several columns which denote for \"no data was\n",
    "    entered\" were set to np.nan. Additionally, a GCS column was added.\n",
    "\n",
    "    :param df_apsVar: DataFrame - apacheApsVar Dataframe from eICU or abreviated. \n",
    "\n",
    "    :param lst_ids: List - list of target patientunitstayids.\n",
    "\n",
    "    :return: DataFrame with patientunitstayid as the index and the data\n",
    "    \"\"\"\n",
    "   \n",
    "    # reducing the general df to reduce the computational load\n",
    "    df_temp = df_apsVar.loc[df_apsVar[\"patientunitstayid\"].isin(lst_ids), ['patientunitstayid', 'eyes', 'motor', 'verbal', 'meds']].copy()\n",
    "    \n",
    "    # set the missing data to NaN\n",
    "    lst_clms = ['eyes', 'motor', 'verbal', 'meds']\n",
    "    for clm in lst_clms:\n",
    "        df_temp.loc[df_temp[clm] == -1, [clm]] = np.nan\n",
    "    \n",
    "    # create the GCS column\n",
    "    df_temp[\"GCS\"] = df_temp.eyes + df_temp.motor + df_temp.verbal\n",
    "\n",
    "    # add the patients that did not have any data at all \n",
    "    lst_pat_with_data = list(df_temp.patientunitstayid.unique())\n",
    "    lst_pat_without_data = [x for x in lst_ids if x not in lst_pat_with_data]\n",
    "    df_pat_without_data = pd.DataFrame(np.nan, index=[i for i in range(len(lst_pat_without_data))],\n",
    "                                       columns=[\"patientunitstayid\", 'eyes', 'motor', 'verbal', 'meds' \"GCS\"])\n",
    "    df_pat_without_data['patientunitstayid'] = lst_pat_without_data\n",
    "    df_final = pd.concat([df_temp, df_pat_without_data])\n",
    "                       \n",
    "    # Rename columns\n",
    "    rename_clms = ['eyes', 'motor', 'verbal', 'meds', \"GCS\"]\n",
    "    df_final = df_final.rename(columns={clm: \"aps_{}\".format(clm) for clm in rename_clms})\n",
    "\n",
    "    return df_final"
   ]
  },
  {
   "cell_type": "code",
   "execution_count": 15,
   "id": "6110dc2d-2bf9-4322-9745-a71786d66ae7",
   "metadata": {
    "tags": []
   },
   "outputs": [],
   "source": [
    "def get_cleaned_apachePredVar_basics(df_predvar, lst_ids):\n",
    "    \"\"\"\n",
    "    This function takes the apachePredVar Dataframe (or abbreviated) and a list of patientunitstayids and returns a \n",
    "    cleaned Dataframe with the information for those unitstays. The dataframe will have the ids as index.\n",
    "\n",
    "    :param df_predvar: DataFrame - apachePredVar Dataframe or abbreviated. \n",
    "\n",
    "    :param lst_ids: List - List of patientunitstayids of the target population.\n",
    "\n",
    "    :return: DataFrame with patientunitstayid as the index and the data\n",
    "    \"\"\"\n",
    "    \n",
    "    # reducing the general df to reduce the computational load\n",
    "    df_temp = df_predvar.loc[df_predvar[\"patientunitstayid\"].isin(lst_ids), \n",
    "                             ['patientunitstayid', 'lymphoma', 'metastaticcancer', 'leukemia', 'midur']].copy()\n",
    "    \n",
    "    # add the patients that did not have any data at all \n",
    "    lst_pat_with_data = list(df_temp.patientunitstayid.unique())\n",
    "    lst_pat_without_data = [x for x in lst_ids if x not in lst_pat_with_data]\n",
    "    df_pat_without_data = pd.DataFrame(np.nan, index=[i for i in range(len(lst_pat_without_data))],\n",
    "                                       columns=['patientunitstayid','lymphoma', 'metastaticcancer', 'leukemia', 'midur'])\n",
    "    df_pat_without_data['patientunitstayid'] = lst_pat_without_data\n",
    "    df_final = pd.concat([df_temp, df_pat_without_data])\n",
    "        \n",
    "    # Rename columns\n",
    "    rename_clms = ['lymphoma', 'metastaticcancer', 'leukemia', 'midur']\n",
    "    df_final = df_final.rename(columns={clm: \"pred_{}\".format(clm) for clm in rename_clms})\n",
    "\n",
    "    return df_final"
   ]
  },
  {
   "cell_type": "code",
   "execution_count": 16,
   "id": "a95ef0d3-a82c-455a-9ef8-1ccef5b48329",
   "metadata": {
    "tags": []
   },
   "outputs": [],
   "source": [
    "def get_cleaned_apachePatientResult_basics(df_apacheresult, lst_ids):\n",
    "    \"\"\"\n",
    "    This function takes the apachePatientResult Dataframe (or abbreviated) and a list of patientunitstayids and returns a \n",
    "    cleaned Dataframe with the information for those unitstays. The dataframe will have the ids as index.\n",
    "\n",
    "    :param df_apacheresult: DataFrame - apachePatientResult Dataframe or abbreviated. \n",
    "\n",
    "    :param lst_ids: List - List of patientunitstayids of the target population.\n",
    "\n",
    "    :return: DataFrame with patientunitstayid as the index and the data\n",
    "    \"\"\"\n",
    "    \n",
    "    # reducing the general df to reduce the computational load\n",
    "    df_temp = df_apacheresult.loc[(df_apacheresult[\"apacheversion\"] == \"IVa\") & (df_apacheresult[\"patientunitstayid\"].isin(lst_ids)),\n",
    "                             ['patientunitstayid', 'apachescore','actualiculos','unabridgedhosplos']].copy()\n",
    "\n",
    "    # set the missing data to NaN\n",
    "    df_temp.loc[df_temp['apachescore'] == -1, ['apachescore']] = np.nan\n",
    "\n",
    "    # add the patients that did not have any data at all \n",
    "    lst_pat_with_data = list(df_temp.patientunitstayid.unique())\n",
    "    lst_pat_without_data = [x for x in lst_ids if x not in lst_pat_with_data]\n",
    "    df_pat_without_data = pd.DataFrame(np.nan, index=[i for i in range(len(lst_pat_without_data))],\n",
    "                                       columns=['patientunitstayid',  'apachescore', 'actualiculos', 'unabridgedhosplos'])\n",
    "    df_pat_without_data['patientunitstayid'] = lst_pat_without_data\n",
    "    df_final = pd.concat([df_temp, df_pat_without_data])\n",
    "\n",
    "    return df_final\n"
   ]
  },
  {
   "cell_type": "code",
   "execution_count": 17,
   "id": "a86da3fd-66d4-4cd3-a42b-f8706c76ebf4",
   "metadata": {
    "tags": []
   },
   "outputs": [],
   "source": [
    "def get_infusion_drugs_individual_offset(df_infusion, dict_ids, additional_dict=None, relative_offset=(-720, 720)):\n",
    "    \"\"\"\n",
    "    This function returns a dataframe indicating whether patients received certain medication classes within a specified timeframe.\n",
    "\n",
    "    :param df_infusion: DataFrame - infusionDrug Dataframe from eICU.\n",
    "\n",
    "    :param dict_ids: Dictionary - keys are the patientunitstayids, values the individual offset\n",
    "\n",
    "    :param additional_dict: Dict - Additional/custom dictionary with the \"clm_name\": \"drugname|drugname|drugname\" format.\n",
    "\n",
    "    :param relative_offset: Tuple, default is (-720, 720) - (lower relative time offest, upper relative time offset)\n",
    "\n",
    "    :return: DataFrame with the columns of who got which medication.\n",
    "    \"\"\"\n",
    "\n",
    "    # reducing the general df to reduce the computational load\n",
    "    df_reduced = df_infusion[df_infusion[\"patientunitstayid\"].isin(list(dict_ids.keys()))].copy().dropna(\n",
    "        subset=[\"drugname\"])\n",
    "\n",
    "    # add the individual offsets\n",
    "    lower_rel_offset, upper_rel_offset = relative_offset\n",
    "    df_reduced[\"individ_offset\"] = df_reduced.patientunitstayid.map(dict_ids)\n",
    "\n",
    "    # filter for only data in the individual timeframes\n",
    "    df_reduced = df_reduced[\n",
    "        (df_reduced[\"infusionoffset\"] <= (df_reduced[\"individ_offset\"] + upper_rel_offset)) &\n",
    "        (df_reduced[\"infusionoffset\"] >= (df_reduced[\"individ_offset\"] + lower_rel_offset))\n",
    "        ].copy()\n",
    "\n",
    "    df_reduced.drugname = df_reduced.drugname.str.lower()\n",
    "\n",
    "    dict_drugs = {\n",
    "        \"infusion_vaso_ino\": 'epinephrine|adrenaline|norepinephrine|levophed|dobutamine|dobutrex|vasopressin|isoprotenerol|isuprel|phenylephrine|neo-synephrine|dopamine|milrinone|isoproterenol',\n",
    "    }\n",
    "\n",
    "    if additional_dict is not None:\n",
    "        dict_drugs.update(additional_dict)\n",
    "\n",
    "    lst_columns = []\n",
    "\n",
    "    # loop over the the drug groups and look at whether patients received this as an infusion or not\n",
    "    for clm_name, drug_str in dict_drugs.items():\n",
    "        lst_pat_drug = df_reduced.loc[\n",
    "            df_reduced.drugname.str.contains(drug_str), \"patientunitstayid\"].copy().unique().tolist()\n",
    "        lst_pat_wo_drug = [i for i in list(dict_ids.keys()) if i not in lst_pat_drug]\n",
    "\n",
    "        df_pat_w_data = pd.DataFrame(lst_pat_drug, columns=['patientunitstayid'])\n",
    "        df_pat_w_data[clm_name] = 1\n",
    "\n",
    "        df_pat_without_data = pd.DataFrame(lst_pat_wo_drug, columns=['patientunitstayid'])\n",
    "        df_pat_without_data[clm_name] = 0\n",
    "\n",
    "        df_clm_final = pd.concat([df_pat_w_data, df_pat_without_data])\n",
    "        df_clm_final = df_clm_final.set_index(\"patientunitstayid\")\n",
    "\n",
    "        lst_columns.append(df_clm_final)\n",
    "\n",
    "    df_final = pd.concat(lst_columns, axis=1)\n",
    "\n",
    "    return df_final\n"
   ]
  },
  {
   "cell_type": "code",
   "execution_count": 18,
   "id": "78528633-800a-462e-916a-ee5aa3239e97",
   "metadata": {
    "tags": []
   },
   "outputs": [],
   "source": [
    "def get_mechanically_ventilated_individual_offset(df_resp_chart, df_resp_care, df_physical, df_nurse_chart, dict_ids,\n",
    "                                                  relative_offset=(-720, 720)):\n",
    "    \"\"\"\n",
    "    This function returns, whether patients were mechanically ventilated during the given time interval from an individual offset point.\n",
    "\n",
    "    :param df_resp_chart: Dataframe - respiratoryCharting dataframe from the eICU\n",
    "    :param df_resp_care: Dataframe - respiratoryCare dataframe from the eICU\n",
    "    :param df_physical: Dataframe - physicalExam dataframe from the eICU\n",
    "    :param df_nurse_chart: Dataframe - nurseCharting dataframe from the eICU\n",
    "    :param dict_ids: Dictionary - keys are the patientunitstayids, values the individual offset\n",
    "    :param relative_offset: Tuple, default is (-720, 720) - (lower relative time offest, upper relative time offset)\n",
    "    :return: DataFrame with a column \"mech_vent_individ_start_{lower_rel_offset}to{upper_rel_offset}\" of who was mechanically ventilated at some point during this\n",
    "    timeframe from the start\n",
    "    \"\"\"\n",
    "\n",
    "    # reducing the general df to reduce the computational load\n",
    "    df_pe_red = df_physical.loc[(df_physical.patientunitstayid.isin(list(dict_ids.keys()))), :].copy()\n",
    "    df_nc_red = df_nurse_chart.loc[(df_nurse_chart.patientunitstayid.isin(list(dict_ids.keys()))), :].copy()\n",
    "    df_rt_red = df_resp_chart.loc[(df_resp_chart.patientunitstayid.isin(list(dict_ids.keys()))), :].copy()\n",
    "    df_re_red = df_resp_care.loc[(df_resp_care.patientunitstayid.isin(list(dict_ids.keys()))), :].copy()\n",
    "\n",
    "    # add the individual offsets\n",
    "    lower_rel_offset, upper_rel_offset = relative_offset\n",
    "\n",
    "    df_pe_red[\"individ_offset\"] = df_pe_red.patientunitstayid.map(dict_ids)\n",
    "    df_nc_red[\"individ_offset\"] = df_nc_red.patientunitstayid.map(dict_ids)\n",
    "    df_rt_red[\"individ_offset\"] = df_rt_red.patientunitstayid.map(dict_ids)\n",
    "    df_re_red[\"individ_offset\"] = df_re_red.patientunitstayid.map(dict_ids)\n",
    "\n",
    "    # filter for only data in the individual timeframes\n",
    "    df_pe_red = df_pe_red[\n",
    "        (df_pe_red[\"physicalexamoffset\"] <= (df_pe_red[\"individ_offset\"] + upper_rel_offset)) &\n",
    "        (df_pe_red[\"physicalexamoffset\"] >= (df_pe_red[\"individ_offset\"] + lower_rel_offset))\n",
    "        ].copy()\n",
    "    df_nc_red = df_nc_red[\n",
    "        (df_nc_red[\"nursingchartoffset\"] <= (df_nc_red[\"individ_offset\"] + upper_rel_offset)) &\n",
    "        (df_nc_red[\"nursingchartoffset\"] >= (df_nc_red[\"individ_offset\"] + lower_rel_offset))\n",
    "        ].copy()\n",
    "    df_rt_red = df_rt_red[\n",
    "        (df_rt_red[\"respchartoffset\"] <= (df_rt_red[\"individ_offset\"] + upper_rel_offset)) &\n",
    "        (df_rt_red[\"respchartoffset\"] >= (df_rt_red[\"individ_offset\"] + lower_rel_offset))\n",
    "        ].copy()\n",
    "    df_re_red = df_re_red[\n",
    "        (df_re_red[\"respcarestatusoffset\"] <= (df_re_red[\"individ_offset\"] + upper_rel_offset)) &\n",
    "        (df_re_red[\"respcarestatusoffset\"] >= (df_re_red[\"individ_offset\"] + lower_rel_offset))\n",
    "        ].copy()\n",
    "\n",
    "    lst_all_vent_lsts = []\n",
    "\n",
    "    # get the ICU-admissions indicating mechanical ventilation from the nurseCharting table\n",
    "    df_nc_vent = df_nc_red.loc[\n",
    "                 ((df_nc_red.nursingchartcelltypevallabel == \"O2 Admin Device\") &\n",
    "                  (df_nc_red.nursingchartvalue.isin(\n",
    "                      [\"ventilator\", \"trach collar\", \"vent\", \"VENT\", \"vented\", \"ac 10/400/40+5\", \"AC10 500 60 5\"]))) |\n",
    "                 (df_nc_red.nursingchartcelltypevallabel == \"End Tidal CO2\"), :].copy()\n",
    "    lst_nc_vent = list(df_nc_vent.patientunitstayid.unique())\n",
    "    lst_all_vent_lsts.append(lst_nc_vent)\n",
    "\n",
    "    # get the ICU-admissions indicating mechanical ventilation from the physicalExamination table\n",
    "    df_pe_vent = df_pe_red.loc[((df_pe_red.physicalexampath.str.contains(\"Pulmonary/Airway\", regex=False, case=False)) &\n",
    "                                (df_pe_red.physicalexamvalue.isin([\"intubated\", \"tracheostomy\"]))) |\n",
    "                               ((df_pe_red.physicalexampath.str.contains(\n",
    "                                   \"Constitutional/Vital Sign and Physiological Data/Resp Mode/\", regex=False,\n",
    "                                   case=False)) &\n",
    "                                (df_pe_red.physicalexamvalue == \"ventilated\")), :].copy()\n",
    "    lst_pe_vent = list(df_pe_vent.patientunitstayid.unique())\n",
    "    lst_all_vent_lsts.append(lst_pe_vent)\n",
    "\n",
    "    # get the ICU-admissions indicating mechanical ventilation from the respiratoryCare table\n",
    "    df_re_vent = df_re_red.loc[df_re_red.lowexhmvlimit.notna() |\n",
    "                               df_re_red.hiexhmvlimit.notna() |\n",
    "                               df_re_red.lowexhtvlimit.notna() |\n",
    "                               df_re_red.hipeakpreslimit.notna() |\n",
    "                               df_re_red.lowpeakpreslimit.notna() |\n",
    "                               df_re_red.hirespratelimit.notna() |\n",
    "                               df_re_red.lowrespratelimit.notna() |\n",
    "                               df_re_red.cuffpressure.notna() |\n",
    "                               df_re_red.airwaysize.notna() |\n",
    "                               df_re_red.airwayposition.notna() |\n",
    "                               df_re_red.airwaytype.isin([\"Oral ETT\", \"Tracheostomy\"]), :].copy()\n",
    "    lst_re_vent = list(df_re_vent.patientunitstayid.unique())\n",
    "    lst_all_vent_lsts.append(lst_re_vent)\n",
    "\n",
    "    # get the ICU-admissions indicating mechanical ventilation from the respiratoryCharting table\n",
    "    df_rt_vent = df_rt_red.loc[\n",
    "                 ((df_rt_red.respcharttypecat == \"respFlowSettings\") &\n",
    "                  (df_rt_red.respchartvaluelabel.isin(\n",
    "                      [\"TV/kg IBW\", \"Tidal Volume (set)\", \"Pressure Control\", \"PEEP\"]))) |\n",
    "                 ((df_rt_red.respcharttypecat == \"respFlowPtVentData\") &\n",
    "                  (df_rt_red.respchartvaluelabel.isin(\n",
    "                      [\"Peak Insp. Pressure\", \"Mean Airway Pressure\", \"Exhaled MV\", \"Exhaled TV (machine)\",\n",
    "                       \"Plateau Pressure\", \"Compliance\"]))) |\n",
    "                 ((df_rt_red.respcharttypecat == \"respFlowCareData\") &\n",
    "                  (df_rt_red.respchartvaluelabel.isin(\n",
    "                      [\"Set Vt (Servo,LTV)\", \"Tidal Volume Observed (VT)\", \"Adult Con Setting Set RR\",\n",
    "                       \"Adult Con Setting Set Vt\", \"Secured at-ETT\", \"Adult Con Pt/Vent MinuteVentil\",\n",
    "                       \"Adult Con Pt/Vent InspiratorTV\", \"Adult Con Alarms Hi Press Alarm\",\n",
    "                       \"Endotracheal Tube Placement\", \"Tidal Volume, Delivered\",\n",
    "                       \"Set Fraction of Inspired Oxygen (FIO2)\", \"Mechanical Ventilator Compliance\",\n",
    "                       \"Mechanical Ventilation Slope\", \"Mechanical Ventilator Resistance\",\n",
    "                       \"Endotracheal Tube Placement Checked\", \"Mechanical Ventilator High Tidal Volume Alarm\",\n",
    "                       \"Mechanical Ventilator Mode\"]))) |\n",
    "                 ((df_rt_red.respcharttypecat == \"respFlowCareData\") & (df_rt_red.respchartvaluelabel == \"O2 Device\") &\n",
    "                  df_rt_red.respchartvalue.isin([\"Ventilator\", \"Trach mask/collar\", \"ETT\", \"Ambubag\"])), :].copy()\n",
    "    lst_rt_intub = list(df_rt_vent.patientunitstayid.unique())\n",
    "    lst_all_vent_lsts.append(lst_rt_intub)\n",
    "\n",
    "    # combine these lists to a binary column\n",
    "    lst_pat_intub = list({pat_id for sublist_vent in lst_all_vent_lsts for pat_id in sublist_vent})\n",
    "    lst_pat_wo_intub = [i for i in list(dict_ids.keys()) if i not in lst_pat_intub]\n",
    "\n",
    "    final_clm_name = f\"mech_vent_individ_start_{lower_rel_offset}to{upper_rel_offset}\"\n",
    "\n",
    "    df_pat_intub = pd.DataFrame(lst_pat_intub, columns=['patientunitstayid'])\n",
    "    df_pat_intub[final_clm_name] = 1\n",
    "\n",
    "    df_pat_wo_intub = pd.DataFrame(lst_pat_wo_intub, columns=['patientunitstayid'])\n",
    "    df_pat_wo_intub[final_clm_name] = 0\n",
    "\n",
    "    df_final = pd.concat([df_pat_intub, df_pat_wo_intub], axis=0)\n",
    "\n",
    "    return df_final\n"
   ]
  },
  {
   "cell_type": "code",
   "execution_count": 19,
   "id": "a2d2c372-40d1-48bf-a9c0-a868d1ba9b55",
   "metadata": {},
   "outputs": [],
   "source": [
    "def get_AMS_from_individual_offset_GCS(df_physical, df_nurse_chart, dict_ids, relative_offset=(-720, 720)):\n",
    "    \"\"\"\n",
    "    This function returns, whether patients had AMS (defined as a GCS verbal component of <5) in a time interval from a patient-specific offset\n",
    "\n",
    "    :param df_physical: Dataframe - physicalExam dataframe from the eICU\n",
    "    :param df_nurse_chart: Dataframe - nurseCharting dataframe from the eICU\n",
    "    :param dict_ids: Dictionary - keys are the patientunitstayids, values the individual offset\n",
    "    :param relative_offset: Tuple, default is (-720, 720) - (lower relative time offest, upper relative time offset)\n",
    "    :return: DataFrame with a column \"ams_first_{time_interval}_min\" of who had AMS at some point during this\n",
    "    timeframe from the start\n",
    "    \"\"\"\n",
    "    # reducing the general df to reduce the computational load\n",
    "    df_pe_red = df_physical.loc[(df_physical.patientunitstayid.isin(list(dict_ids.keys()))), :].copy()\n",
    "    df_nc_red = df_nurse_chart.loc[(df_nurse_chart.patientunitstayid.isin(list(dict_ids.keys()))), :].copy()\n",
    "\n",
    "    # add the individual offsets\n",
    "    lower_rel_offset, upper_rel_offset = relative_offset\n",
    "\n",
    "    df_pe_red[\"individ_offset\"] = df_pe_red.patientunitstayid.map(dict_ids)\n",
    "    df_nc_red[\"individ_offset\"] = df_nc_red.patientunitstayid.map(dict_ids)\n",
    "\n",
    "    # filter for only data in the individual timeframes\n",
    "    df_pe_red = df_pe_red[\n",
    "        (df_pe_red[\"physicalexamoffset\"] <= (df_pe_red[\"individ_offset\"] + upper_rel_offset)) &\n",
    "        (df_pe_red[\"physicalexamoffset\"] >= (df_pe_red[\"individ_offset\"] + lower_rel_offset))\n",
    "        ].copy()\n",
    "    df_nc_red = df_nc_red[\n",
    "        (df_nc_red[\"nursingchartoffset\"] <= (df_nc_red[\"individ_offset\"] + upper_rel_offset)) &\n",
    "        (df_nc_red[\"nursingchartoffset\"] >= (df_nc_red[\"individ_offset\"] + lower_rel_offset))\n",
    "        ].copy()\n",
    "\n",
    "    lst_all_ams_lsts = []\n",
    "\n",
    "    # get the AMS patients from the physicalExam dataframe\n",
    "    df_pe_gcs = df_pe_red[\n",
    "        df_pe_red.physicalexampath.str.contains(\"Neurologic/GCS/Verbal Score\", regex=False, case=False)].copy()\n",
    "    df_pe_gcs.physicalexamvalue = pd.to_numeric(df_pe_gcs.physicalexamvalue)\n",
    "    lst_pe_gcs_ams = list(df_pe_gcs[df_pe_gcs.physicalexamvalue <= 4].patientunitstayid.unique())\n",
    "    lst_all_ams_lsts.append(lst_pe_gcs_ams)\n",
    "\n",
    "    # get the AMS patients from the nurseCharting dataframe\n",
    "    df_nc_gcs = df_nc_red[(df_nc_red.nursingchartcelltypevallabel == \"Glasgow coma score\") & (\n",
    "            df_nc_red.nursingchartcelltypevalname == \"Verbal\")].copy()\n",
    "    df_nc_gcs.nursingchartvalue = pd.to_numeric(df_nc_gcs.nursingchartvalue)\n",
    "    lst_ns_gcs_ams = list(df_nc_gcs[df_nc_gcs.nursingchartvalue <= 4].patientunitstayid.unique())\n",
    "    lst_all_ams_lsts.append(lst_ns_gcs_ams)\n",
    "\n",
    "    df_nc_other_ams = df_nc_red.loc[((df_nc_red.nursingchartcelltypevallabel == \"Best Verbal Response\") & (\n",
    "        df_nc_red.nursingchartvalue.str.contains(\"4|3|2|1|confused|intubated\", regex=True, case=False))), :].copy()\n",
    "    df_nc_other_ams = list(df_nc_other_ams.patientunitstayid.unique())\n",
    "    lst_all_ams_lsts.append(df_nc_other_ams)\n",
    "\n",
    "    # combine these lists to a binary column\n",
    "    lst_pat_w_ams = list({pat_id for sublist_ams in lst_all_ams_lsts for pat_id in sublist_ams})\n",
    "    lst_pat_wo_ams = [i for i in list(dict_ids.keys()) if i not in lst_pat_w_ams]\n",
    "\n",
    "    ams_clm_name = f\"ams_individ_start_{lower_rel_offset}to{upper_rel_offset}\"\n",
    "\n",
    "    df_pat_w_ams = pd.DataFrame(lst_pat_w_ams, columns=['patientunitstayid'])\n",
    "    df_pat_w_ams[ams_clm_name] = 1\n",
    "\n",
    "    df_pat_without_ams = pd.DataFrame(lst_pat_wo_ams, columns=['patientunitstayid'])\n",
    "    df_pat_without_ams[ams_clm_name] = 0\n",
    "\n",
    "    df_final = pd.concat([df_pat_w_ams, df_pat_without_ams], axis=0)\n",
    "\n",
    "    return df_final\n"
   ]
  },
  {
   "cell_type": "code",
   "execution_count": 20,
   "id": "c4fd6c67-4a2a-4ae0-ac07-a27850215968",
   "metadata": {
    "tags": []
   },
   "outputs": [],
   "source": [
    "def fast_clean_data(array_vitals):\n",
    "    \"\"\"\n",
    "    Discard outliers that are > median + 2 IQR or < median - 2 IQR\n",
    "\n",
    "    :param lst_values: List - list of values (eg. mean BPs from a certain timeframe of a patient)\n",
    "\n",
    "    :return: Array - numpy array of cleaned values\n",
    "\n",
    "    \"\"\"\n",
    "\n",
    "    # to detect outliers for the patients own baseline:\n",
    "    q25, q50, q75 = np.percentile(array_vitals, [25, 50, 75])\n",
    "    iqr = q75 - q25\n",
    "\n",
    "    cleaned_array = array_vitals[(array_vitals >= (q50 - 2 * iqr)) & (array_vitals <= (q50 + 2 * iqr))].copy()\n",
    "\n",
    "    return cleaned_array\n",
    "\n",
    "\n",
    "def groupby_vitals_per_hour(x, agg_timeunit):\n",
    "    np_hourly_vitals = x.to_numpy()\n",
    "\n",
    "    cleaned_hourly = fast_clean_data(np_hourly_vitals)\n",
    "\n",
    "    if agg_timeunit == \"median\":\n",
    "        hour_vital = np.median(cleaned_hourly)\n",
    "    if agg_timeunit == \"max\":\n",
    "        hour_vital = np.max(cleaned_hourly)\n",
    "    if agg_timeunit == \"min\":\n",
    "        hour_vital = np.min(cleaned_hourly)\n",
    "\n",
    "    return hour_vital\n",
    "\n",
    "\n",
    "def groupby_vitals_total(x, agg_total):\n",
    "    np_total_vitals = x.to_numpy()\n",
    "\n",
    "    if agg_total == \"median\":\n",
    "        hour_vital = np.median(np_total_vitals)\n",
    "    if agg_total == \"max\":\n",
    "        hour_vital = np.max(np_total_vitals)\n",
    "    if agg_total == \"min\":\n",
    "        hour_vital = np.min(np_total_vitals)\n",
    "\n",
    "    return hour_vital\n",
    "\n",
    "\n",
    "def fast_vitals_periodic_individual_offset(df_periodic, dict_ids, vital_name, realistic_bounds, relative_offset,\n",
    "                                           agg_timeunit=\"median\", agg_total=\"median\", timeunit=60, temp_nurse_bool=False,\n",
    "                                           temp_nursechart=None):\n",
    "    \"\"\"\n",
    "    Takes the vitalPeriodic table of eICU, target patientunitstayids and their individual offset as a dictionary, offset bounds, and realistic bounds and a vitalname and\n",
    "    returns the aggregated and cleaned value for that offset timeframe. There are different options to choose from on how to aggregate that\n",
    "    value. If looking at the temperature, there is the option to include all temperature measurements from the nurses charting (which often\n",
    "    primarily includes the temperature values of a patient. Pulsepressure is calculated from the respective BP_sys - BP_dia. (will\n",
    "    automatically use 20/300 (systolic) and 10/200 (diastolic) as bounds)\n",
    "    Accepted vitalnames: temperature, sao2, heartrate, respiration, cvp, etco2, systemicsystolic, systemicdiastolic, systemicmean, pasystolic,\n",
    "    padiastolic, pamean, icp\n",
    "\n",
    "    :param df_periodic: Dataframe - abbreviated (! unless a lot of free RAM) Dataframe of the vitalPeriodic table of eICU\n",
    "\n",
    "    :param dict_ids: Dictionary - keys are the patientunitstayids, values the individual offset\n",
    "\n",
    "    :param vital_name: String - Column name of the vital\n",
    "\n",
    "    :param realistic_bounds: Tuple - realistic values of the vital in the form of (lower bound, upper bound) eg. (20,100) for fio2\n",
    "\n",
    "    :param relative_offset: Tuple - (lower relative time offest, upper relative time offset)\n",
    "\n",
    "    :param agg_timeunit: String, picklist, preset \"median\" - whether to use \"median\", \"max\" or \"min\" to aggregate the values per timeunit (if the\n",
    "            offset duration is longer than the timeunit)\n",
    "\n",
    "    :param agg_total: String, picklist, preset \"median\" - whether to use \"median\", \"max\" or \"min\" to aggregate the values to the final value\n",
    "\n",
    "    :param timeunit: Int, preset 60 - Number of minutes for the timeunit\n",
    "\n",
    "    :param temp_nurse_bool: Boolean, preset False - Whether to use the nurse charting for the temperature\n",
    "\n",
    "    :param temp_nursechart: Dataframe - NurseCharting Dataframe of the eICU if the vital_name is temperature and temp_nurse_bool is True\n",
    "\n",
    "    :return: Dataframe\n",
    "    \"\"\"\n",
    "\n",
    "    # reducing the general df to reduce the computational load\n",
    "    df_reduced = df_periodic[df_periodic[\"patientunitstayid\"].isin(list(dict_ids.keys()))].copy()\n",
    "\n",
    "    # open the tuples of the bounds\n",
    "    lower_realistic_bound, upper_realistic_bound = realistic_bounds\n",
    "\n",
    "    # calculate the pulsepressure if this is selected; via systolic BP - diastolic BP\n",
    "    if vital_name == \"pulsepressure\":\n",
    "        df_temp_initial = df_reduced.loc[\n",
    "            (df_reduced[\"systemicsystolic\"] >= 20) & (df_reduced[\"systemicsystolic\"] <= 300) &\n",
    "            (df_reduced[\"systemicdiastolic\"] >= 10) & (df_reduced[\"systemicdiastolic\"] <= 200),\n",
    "            [\"patientunitstayid\", \"observationoffset\", \"systemicsystolic\", \"systemicdiastolic\"]].copy()\n",
    "\n",
    "        df_temp = (df_temp_initial.assign(\n",
    "            pulsepressure=df_temp_initial[\"systemicsystolic\"] - df_temp_initial[\"systemicdiastolic\"])\n",
    "                   .drop(columns=[\"systemicsystolic\", \"systemicdiastolic\"])\n",
    "                   .dropna()\n",
    "                   )\n",
    "    else:\n",
    "        # next reduction, incorporating the realistic bounds\n",
    "        df_temp = df_reduced.loc[\n",
    "            (df_reduced[vital_name] >= lower_realistic_bound) & (df_reduced[vital_name] <= upper_realistic_bound),\n",
    "            [\"patientunitstayid\", \"observationoffset\", vital_name]].copy().dropna()\n",
    "\n",
    "    # add the temperature information from the nurse chart if temperature is selected and this feature is used\n",
    "    if vital_name == \"temperature\" and temp_nurse_bool:\n",
    "        # reduce the nurse charting to lessen the computational load\n",
    "        df_nursechart = temp_nursechart[temp_nursechart[\"patientunitstayid\"].isin(list(dict_ids.keys()))].copy()\n",
    "        df_n_char_red = df_nursechart.loc[(df_nursechart.nursingchartcelltypevallabel == \"Temperature\") &\n",
    "                                          (df_nursechart.nursingchartcelltypevalname.isin(\n",
    "                                              ['Temperature (C)', 'Temperature (F)'])),\n",
    "                                          [\"patientunitstayid\", \"nursingchartoffset\", \"nursingchartcelltypevalname\",\n",
    "                                           \"nursingchartvalue\"]].copy()\n",
    "\n",
    "        # adjust for the fact that some values are taken as °F and some as °C\n",
    "        df_n_char_red.nursingchartvalue = df_n_char_red.nursingchartvalue.astype(float)\n",
    "        df_n_char_red[\"temperature\"] = df_n_char_red.apply(lambda x: ((x.nursingchartvalue - 32) * (\n",
    "                5 / 9)) if x.nursingchartcelltypevalname == 'Temperature (F)' else x.nursingchartvalue, axis=1)\n",
    "        df_n_char_red = df_n_char_red.rename(columns={\"nursingchartoffset\": \"observationoffset\"})\n",
    "        df_n_char_final = df_n_char_red.loc[(df_n_char_red[vital_name] >= lower_realistic_bound) & (\n",
    "                df_n_char_red[vital_name] <= upper_realistic_bound),\n",
    "                                            [\"patientunitstayid\", \"observationoffset\",\n",
    "                                             vital_name]].copy().reset_index(drop=True)\n",
    "\n",
    "        df_temp = pd.concat([df_temp, df_n_char_final])\n",
    "\n",
    "    # add the individual offsets\n",
    "    lower_rel_offset, upper_rel_offset = relative_offset\n",
    "    df_temp[\"individ_offset\"] = df_temp.patientunitstayid.map(dict_ids)\n",
    "\n",
    "    # filter for only data in the individual timeframes\n",
    "    df_temp = df_temp[\n",
    "        (df_temp[\"observationoffset\"] <= (df_temp[\"individ_offset\"] + upper_rel_offset)) &\n",
    "        (df_temp[\"observationoffset\"] >= (df_temp[\"individ_offset\"] + lower_rel_offset))\n",
    "        ].copy()\n",
    "\n",
    "    # Adjust the observation offset to be relative to the individual offset\n",
    "    df_temp[\"observationoffset\"] -= df_temp[\"individ_offset\"]\n",
    "    df_temp = df_temp.drop(columns=[\"individ_offset\"])\n",
    "\n",
    "    # create bins for the timeunit in the given offset interval and then cut the column to these bins\n",
    "    lower_offset = 0\n",
    "    upper_offset = abs(lower_rel_offset) + upper_rel_offset\n",
    "\n",
    "    lst_bins = [i for i in range(lower_offset, upper_offset + 1, timeunit) if i <= upper_offset]\n",
    "\n",
    "    if (upper_offset - lower_offset) % timeunit != 0:\n",
    "        lst_bins.append(upper_offset)\n",
    "\n",
    "    df_temp.observationoffset = pd.cut(df_temp.observationoffset, bins=lst_bins, right=True, include_lowest=True)\n",
    "\n",
    "    # group first by hour (cleaning the data of outliers) and then over the total offset span\n",
    "    df_grouped_hours = (df_temp\n",
    "                        .groupby([\"patientunitstayid\", \"observationoffset\"])\n",
    "                        .agg(lambda x: groupby_vitals_per_hour(x, agg_timeunit=agg_timeunit))\n",
    "                        .reset_index()\n",
    "                        .drop(columns=[\"observationoffset\"])\n",
    "                        .dropna()\n",
    "                        .groupby([\"patientunitstayid\"])\n",
    "                        .agg(lambda x: groupby_vitals_total(x, agg_total=agg_total))\n",
    "                        .reset_index()\n",
    "                        )\n",
    "\n",
    "    # make a dataframe with a single column containing the ids and then merge the results to that\n",
    "    df_pat = pd.DataFrame({'patientunitstayid': list(dict_ids.keys())})\n",
    "    clm_name = \"{}_{}_individ_offset_rel_{}to{}_u{}\".format(vital_name, agg_total, lower_rel_offset, upper_rel_offset,\n",
    "                                                            timeunit)\n",
    "    df_pat_final = df_pat.merge(df_grouped_hours, on=\"patientunitstayid\", how=\"left\").rename(\n",
    "        columns={vital_name: clm_name})\n",
    "\n",
    "    return df_pat_final\n"
   ]
  },
  {
   "cell_type": "code",
   "execution_count": 21,
   "id": "41816320-bb87-40e8-a74e-703bfeba6e46",
   "metadata": {
    "tags": []
   },
   "outputs": [],
   "source": [
    "def fast_vitals_combined_individual_offset(df_periodic, df_aperiodic, dict_ids, vital_name, realistic_bounds, relative_offset,\n",
    "                         agg_timeunit=\"median\", agg_total=\"median\", timeunit=60):\n",
    "    \"\"\"\n",
    "    Takes the both the vitalPeriodic and Aperiodic tables of eICU, target patientunitstayids as a list, offset bounds, and realistic bounds and a vitalname and\n",
    "    returns the aggregated and cleaned value for that offset timeframe. There are different options to choose from on how to aggregate that\n",
    "    value. Possible vitalnames: systolic, diastolic, mean_bp, pulsepressure\n",
    "\n",
    "    :param df_periodic: Dataframe - vitalPeriodic Dataframe of the eICU Database (abbreviated unless a lot of free RAM)\n",
    "\n",
    "    :param df_aperiodic: Dataframe - vitalAperiodic Dataframe (abbreviated unless a lot of free RAM)\n",
    "\n",
    "    :param dict_ids: Dictionary - keys are the patientunitstayids, values the individual offset\n",
    "\n",
    "    :param vital_name: String, picklist - options \"systolic\", \"diastolic\", \"mean_bp\", \"pulsepressure\"\n",
    "\n",
    "    :param realistic_bounds: Tuple - realistic values of the vital in the form of (lower bound, upper bound) eg. (20, 250) for systolic\n",
    "\n",
    "    :param relative_offset: Tuple - (lower relative time offest, upper relative time offset)\n",
    "\n",
    "    :param agg_timeunit: String, picklist, preset \"median\" - whether to use \"median\", \"max\" or \"min\" to aggregate the values per timeunit\n",
    "    (if the offset-duration is longer than the timeunit)\n",
    "\n",
    "    :param agg_total: String, picklist, preset \"median\" - whether to use \"median\", \"max\" or \"min\" to aggregate the values to the final value\n",
    "\n",
    "    :param timeunit: Int, preset 60 - Number of minutes for the timeunit\n",
    "\n",
    "    :return: Dataframe\n",
    "    \"\"\"\n",
    "\n",
    "    # dictionary that sorts the vital_names to the respective names of the columns in the periodic and Aperiodic dfs\n",
    "    dict_vitalnames = {\n",
    "        \"systolic\": (\"systemicsystolic\", \"noninvasivesystolic\"),\n",
    "        \"diastolic\": (\"systemicdiastolic\", \"noninvasivediastolic\"),\n",
    "        \"mean_bp\": (\"systemicmean\", \"noninvasivemean\")\n",
    "    }\n",
    "\n",
    "    # reducing the general dfs to reduce the computational load\n",
    "    df_reduced_periodic = df_periodic[df_periodic[\"patientunitstayid\"].isin(list(dict_ids.keys()))].copy()\n",
    "    df_reduced_aperiodic = df_aperiodic[df_aperiodic[\"patientunitstayid\"].isin(list(dict_ids.keys()))].copy()\n",
    "\n",
    "    # open the tuples\n",
    "    lower_realistic_bound, upper_realistic_bound = realistic_bounds\n",
    "\n",
    "    # next reduction, incorporating the big offset bounds and the realistic bounds into each dataframe and then adding both\n",
    "    # datafrems to have one united dataframes with all the vitals values\n",
    "    # calculate the pulsepressure if this is selected; via systolic BP - diastolic BP\n",
    "    if vital_name == \"pulsepressure\":\n",
    "        df_temp_initial_periodic = df_reduced_periodic.loc[\n",
    "            (df_reduced_periodic[\"systemicsystolic\"] >= 20) & (df_reduced_periodic[\"systemicsystolic\"] <= 300) &\n",
    "            (df_reduced_periodic[\"systemicdiastolic\"] >= 10) & (df_reduced_periodic[\"systemicdiastolic\"] <= 200),\n",
    "            [\"patientunitstayid\", \"observationoffset\", \"systemicsystolic\", \"systemicdiastolic\"]].copy()\n",
    "\n",
    "        df_temp_periodic = (df_temp_initial_periodic.assign(\n",
    "            pulsepressure=df_temp_initial_periodic[\"systemicsystolic\"] - df_temp_initial_periodic[\"systemicdiastolic\"])\n",
    "                            .drop(columns=[\"systemicsystolic\", \"systemicdiastolic\"])\n",
    "                            .dropna()\n",
    "                            )\n",
    "\n",
    "        df_temp_initial_aperiodic = df_reduced_aperiodic.loc[\n",
    "            (df_reduced_aperiodic[\"noninvasivesystolic\"] >= 20) & (df_reduced_aperiodic[\"noninvasivesystolic\"] <= 300) &\n",
    "            (df_reduced_aperiodic[\"noninvasivediastolic\"] >= 10) & (\n",
    "                        df_reduced_aperiodic[\"noninvasivediastolic\"] <= 200),\n",
    "            [\"patientunitstayid\", \"observationoffset\", \"noninvasivesystolic\", \"noninvasivediastolic\"]].copy()\n",
    "\n",
    "        df_temp_aperiodic = (df_temp_initial_aperiodic.assign(\n",
    "            pulsepressure=df_temp_initial_aperiodic[\"noninvasivesystolic\"] - df_temp_initial_aperiodic[\n",
    "                \"noninvasivediastolic\"])\n",
    "                             .drop(columns=[\"noninvasivesystolic\", \"noninvasivediastolic\"])\n",
    "                             .dropna()\n",
    "                             )\n",
    "\n",
    "    # path for systolic, diastolic and mean_bp\n",
    "    else:\n",
    "        key_periodic, key_aperiodic = dict_vitalnames[vital_name]\n",
    "        df_temp_periodic = df_reduced_periodic.loc[\n",
    "            (df_reduced_periodic[key_periodic] >= lower_realistic_bound) & (\n",
    "                        df_reduced_periodic[key_periodic] <= upper_realistic_bound),\n",
    "            [\"patientunitstayid\", \"observationoffset\", key_periodic]].copy().dropna().rename(\n",
    "            columns={key_periodic: vital_name})\n",
    "        df_temp_aperiodic = df_reduced_aperiodic.loc[\n",
    "            (df_reduced_aperiodic[key_aperiodic] >= lower_realistic_bound) & (\n",
    "                    df_reduced_aperiodic[key_aperiodic] <= upper_realistic_bound),\n",
    "            [\"patientunitstayid\", \"observationoffset\", key_aperiodic]].copy().dropna().rename(\n",
    "            columns={key_aperiodic: vital_name})\n",
    "\n",
    "    df_temp_whole = pd.concat([df_temp_periodic, df_temp_aperiodic])\n",
    "\n",
    "    # add the individual offsets\n",
    "    lower_rel_offset, upper_rel_offset = relative_offset\n",
    "    df_temp_whole[\"individ_offset\"] = df_temp_whole.patientunitstayid.map(dict_ids)\n",
    "\n",
    "    # filter for only data in the individual timeframes\n",
    "    df_temp_whole = df_temp_whole[\n",
    "        (df_temp_whole[\"observationoffset\"] <= (df_temp_whole[\"individ_offset\"] + upper_rel_offset)) &\n",
    "        (df_temp_whole[\"observationoffset\"] >= (df_temp_whole[\"individ_offset\"] + lower_rel_offset))\n",
    "        ].copy()\n",
    "\n",
    "    # Adjust the observation offset to be relative to the individual offset\n",
    "    df_temp_whole[\"observationoffset\"] -= df_temp_whole[\"individ_offset\"]\n",
    "    df_temp_whole = df_temp_whole.drop(columns=[\"individ_offset\"])\n",
    "\n",
    "    # create bins for the timeunit in the given offset interval and then cut the column to these bins\n",
    "    lower_offset = 0\n",
    "    upper_offset = abs(lower_rel_offset) + upper_rel_offset\n",
    "\n",
    "    lst_bins = [i for i in range(lower_offset, upper_offset + 1, timeunit) if i <= upper_offset]\n",
    "\n",
    "    if (upper_offset - lower_offset) % timeunit != 0:\n",
    "        lst_bins.append(upper_offset)\n",
    "\n",
    "    df_temp_whole.observationoffset = pd.cut(df_temp_whole.observationoffset, bins=lst_bins, right=True,\n",
    "                                             include_lowest=True)\n",
    "\n",
    "    # group first by hour (cleaning the data of outliers) and then over the total offset span\n",
    "    df_grouped_all = (df_temp_whole\n",
    "                      .groupby([\"patientunitstayid\", \"observationoffset\"])\n",
    "                      .agg(lambda x: groupby_vitals_per_hour(x, agg_timeunit=agg_timeunit))\n",
    "                      .reset_index()\n",
    "                      .drop(columns=[\"observationoffset\"])\n",
    "                      .dropna()\n",
    "                      .groupby([\"patientunitstayid\"])\n",
    "                      .agg(lambda x: groupby_vitals_total(x, agg_total=agg_total))\n",
    "                      .reset_index()\n",
    "                      )\n",
    "\n",
    "    # make a dataframe with a single column containing the ids and then merge the results to that\n",
    "    df_pat = pd.DataFrame({'patientunitstayid': list(dict_ids.keys())})\n",
    "    clm_name = \"{}_{}_individ_offset_rel_{}to{}_u{}\".format(vital_name, agg_total, lower_rel_offset, upper_rel_offset, timeunit)\n",
    "    df_pat_final = df_pat.merge(df_grouped_all, on=\"patientunitstayid\", how=\"left\").rename(\n",
    "        columns={vital_name: clm_name})\n",
    "\n",
    "    return df_pat_final"
   ]
  },
  {
   "cell_type": "code",
   "execution_count": 22,
   "id": "ae8fdaad-342b-45a7-a09d-d9a6ee64700f",
   "metadata": {},
   "outputs": [],
   "source": [
    "def apply_time_to_death_from_unit_admit(x):\n",
    "    # if the patient did not die, return NaN\n",
    "    if x.hospitaldischargestatus == \"Alive\":\n",
    "        return np.nan\n",
    "    \n",
    "    # if the patient died in the ICU then the time on ICU is the time-to-death\n",
    "    if x.unitdischargestatus == \"Expired\":\n",
    "        return x.actualiculos\n",
    "    \n",
    "    # if the patient died in the hospital calculate the time to death by subtracting the time to ICU admission\n",
    "    if x.hospitaldischargestatus == \"Expired\":\n",
    "        time_to_death = x.unabridgedhosplos - (x.hospitaladmitoffset/(24*60))\n",
    "        return time_to_death\n",
    "    \n",
    "    else:\n",
    "        return np.nan\n",
    "    \n",
    "\n",
    "def time_to_death_from_unit_admission(df_pat, df_apache_res, lst_ids):\n",
    "    \"\"\"\n",
    "    Compute the time to death from ICU-admission for a cohort of interest. Will return np.nan if the patient did not die and \n",
    "    for irregularities.\n",
    "    \n",
    "    :param df_pat: Dataframe - patient dataframe of the eICU or abbreviated\n",
    "    \n",
    "    :param df_apache_res: Dataframe - apachePatientResult dataframe of the eICU or abbreviated\n",
    "    \n",
    "    :param lst_ids: List - List of patientunitstayids\n",
    "    \n",
    "    return: Dataframe with 2 columns (patientunitstayids and time_to_death_unitadmit)\n",
    "    \"\"\"\n",
    "    \n",
    "    # reducing the general dfs to reduce the computational load\n",
    "    df_pat_red = df_pat.loc[df_pat.patientunitstayid.isin(lst_ids), \n",
    "                           [\"patientunitstayid\", \"hospitaldischargestatus\", \"unitdischargestatus\", \"hospitaladmitoffset\"]].copy()\n",
    "    df_apache_res_red = df_apache_res.loc[df_apache_res.patientunitstayid.isin(lst_ids),\n",
    "                                         [\"patientunitstayid\", 'actualiculos', 'unabridgedhosplos']].copy()\n",
    "    \n",
    "    # merging both to have all these columns ready for the apply method\n",
    "    df_combined = pd.merge(left=df_pat_red, right=df_apache_res_red, how=\"left\", on=\"patientunitstayid\")\n",
    "    df_combined = df_combined.drop_duplicates()\n",
    "    \n",
    "    # calculate the time-to-death in a row-wise approach\n",
    "    df_combined[\"time_to_death_unitadmit\"] = df_combined.apply(lambda x: apply_time_to_death_from_unit_admit(x), axis=1)\n",
    "    \n",
    "    df_final = df_combined[[\"patientunitstayid\", \"time_to_death_unitadmit\"]].copy()\n",
    "    \n",
    "    return df_final"
   ]
  },
  {
   "cell_type": "code",
   "execution_count": 23,
   "id": "77dbb159-569d-4a96-b6da-cf44a8cd68a2",
   "metadata": {
    "tags": []
   },
   "outputs": [],
   "source": [
    "def get_admissionDx_basicinfo_longformat(df_admDx, lst_ids):\n",
    "    \"\"\"\n",
    "    Takes the AdmissionDx Dataframe and gives out basic information (columns: elective, admitted_from_or, non_op_organsystem,\n",
    "    non_op_dx, op_organsystem, op_dx) as a longformat dataframe. (patientunitstayids as the index)\n",
    "\n",
    "    :param df_admDx: Dataframe - AdmissionDx Dataframe from eICU or abbreviated\n",
    "\n",
    "    :param lst_ids: List - List of patientunitstayids of the target population\n",
    "\n",
    "    :return: Dataframe\n",
    "    \"\"\"\n",
    "\n",
    "    # reduce the big dataframe\n",
    "    df_temp = df_admDx[df_admDx[\"patientunitstayid\"].isin(lst_ids)].copy()\n",
    "    df_temp[\"admitdxpath\"] = df_temp[\"admitdxpath\"].str.replace(\"Non-operative\", \"Nonoperative\", regex=True)\n",
    "\n",
    "    # columns: admitted_from_OR, elective, non_op_organsystem, non_op_dx, op_organsystem, op_dx\n",
    "    dict_columns_new = {\n",
    "        \"admdx_admitted_from_OR\": \"Was the patient admitted from the O.R.\",\n",
    "        \"admdx_non_op_organsystem\": \"Nonoperative Organ Systems\",\n",
    "        \"admdx_op_organsystem\": \"Operative Organ Systems\",\n",
    "    }\n",
    "\n",
    "    dict_columns_new_2 = {\n",
    "        \"admdx_non_op_dx\": (\"All Diagnosis\", \"Nonoperative\"),\n",
    "        \"admdx_op_dx\": (\"All Diagnosis\", \"Operative\")\n",
    "    }\n",
    "\n",
    "    # lets try the column wise approach\n",
    "    lst_columns = []\n",
    "\n",
    "    for clm_name, key_phrase in tqdm(dict_columns_new.items()):\n",
    "        # get the values per patientid in a column-wise approach\n",
    "        df_new_clm_raw = df_temp.loc[\n",
    "            df_temp['admitdxpath'].str.contains(key_phrase, na=False), [\"patientunitstayid\", \"admitdxpath\", \"admitdxname\"]].copy()\n",
    "        df_new_clm_raw.rename(columns={'admitdxname': clm_name}, inplace=True)\n",
    "        df_new_clm = df_new_clm_raw.loc[:, [\"patientunitstayid\", clm_name]]\n",
    "\n",
    "        lst_pat_w_data = df_new_clm.patientunitstayid.unique().tolist()\n",
    "        lst_pat_no_data = [x for x in lst_ids if x not in lst_pat_w_data]\n",
    "        df_pat_without_elective_data = pd.DataFrame(lst_pat_no_data, columns=['patientunitstayid'])\n",
    "        df_pat_without_elective_data[clm_name] = np.nan\n",
    "\n",
    "        df_clm_final = pd.concat([df_new_clm, df_pat_without_elective_data])\n",
    "        df_clm_final.set_index(\"patientunitstayid\", inplace=True)\n",
    "\n",
    "        lst_columns.append(df_clm_final)\n",
    "\n",
    "    for clm_name, key_phrases in tqdm(dict_columns_new_2.items()):\n",
    "        # get the values per patientid in a column-wise approach\n",
    "        key_phrase1, key_phrase2 = key_phrases\n",
    "        df_new_clm_raw = df_temp.loc[(df_temp['admitdxpath'].str.contains(key_phrase1, na=False)) &\n",
    "                                     (df_temp['admitdxpath'].str.contains(key_phrase2, na=False)),\n",
    "                                     [\"patientunitstayid\", \"admitdxpath\", \"admitdxname\"]].copy()\n",
    "        df_new_clm_raw.rename(columns={'admitdxname': clm_name}, inplace=True)\n",
    "        df_new_clm = df_new_clm_raw.loc[:, [\"patientunitstayid\", clm_name]]\n",
    "\n",
    "        lst_pat_w_data = df_new_clm.patientunitstayid.unique().tolist()\n",
    "        lst_pat_no_data = [x for x in lst_ids if x not in lst_pat_w_data]\n",
    "        df_pat_without_elective_data = pd.DataFrame(lst_pat_no_data, columns=['patientunitstayid'])\n",
    "        df_pat_without_elective_data[clm_name] = np.nan\n",
    "\n",
    "        df_clm_final = pd.concat([df_new_clm, df_pat_without_elective_data])\n",
    "        df_clm_final.set_index(\"patientunitstayid\", inplace=True)\n",
    "\n",
    "        lst_columns.append(df_clm_final)\n",
    "\n",
    "    df_final = pd.concat(lst_columns, axis=1)\n",
    "\n",
    "    return df_final"
   ]
  },
  {
   "cell_type": "markdown",
   "id": "00aa7341-d6c8-43cf-a9ad-6033a72f29d9",
   "metadata": {
    "tags": []
   },
   "source": [
    "## Demographic Data"
   ]
  },
  {
   "cell_type": "code",
   "execution_count": 24,
   "id": "a02e9288-6770-4d2e-91d2-50a9fe199946",
   "metadata": {
    "tags": []
   },
   "outputs": [],
   "source": [
    "df_pat = pd.read_csv(\"sec_PE_data/patient_sec_PE.csv\", low_memory=False)"
   ]
  },
  {
   "cell_type": "code",
   "execution_count": 25,
   "id": "a96bec9f-219e-41a4-a3b9-3d068c5e427b",
   "metadata": {
    "tags": []
   },
   "outputs": [],
   "source": [
    "df_patinfo_PE = get_basic_patient_info(df_pat, lst_secondary_pe)"
   ]
  },
  {
   "cell_type": "code",
   "execution_count": 26,
   "id": "8147a5a8-32c7-4369-bf68-71ade003b214",
   "metadata": {
    "tags": []
   },
   "outputs": [],
   "source": [
    "# Process the result (aggregate the ethnicity column as in, only keep the top 2 ethnicities as distinct categories; int-binarize the death columns)\n",
    "df_patinfo_PE.loc[~(df_patinfo_PE.ethnicity.isin(df_patinfo_PE.ethnicity.value_counts().index[:2].to_list())), \"ethnicity\"] = \"Other/Unknown\"\n",
    "df_patinfo_PE.ethnicity = df_patinfo_PE.ethnicity.fillna(\"Other/Unknown\")\n",
    "df_patinfo_PE.hospitaldischargestatus = df_patinfo_PE.hospitaldischargestatus.map({\"Expired\": 1, \"Alive\": 0})\n",
    "df_patinfo_PE.unitdischargestatus = df_patinfo_PE.unitdischargestatus.map({\"Expired\": 1, \"Alive\": 0})\n",
    "\n",
    "# the demographic PESI components\n",
    "df_patinfo_PE[\"PESI_age\"] = df_patinfo_PE[\"age\"]\n",
    "df_patinfo_PE[\"PESI_gender\"] = df_patinfo_PE[\"gender\"].map({\"Male\": 1, \"Female\":0})\n",
    "\n",
    "# sPESI age component (> 80 years old)\n",
    "df_patinfo_PE[\"sPESI_age\"] = df_patinfo_PE[\"PESI_age\"].map(lambda x: 1 if x > 80 else 0)"
   ]
  },
  {
   "cell_type": "markdown",
   "id": "da2eced1-cedc-4a39-adb2-2dca4b07f3c4",
   "metadata": {
    "tags": []
   },
   "source": [
    "## Comorbidities "
   ]
  },
  {
   "cell_type": "code",
   "execution_count": 27,
   "id": "75af2892-1ebb-4b18-a0f6-2962507dc7b6",
   "metadata": {
    "tags": []
   },
   "outputs": [],
   "source": [
    "df_pmh = pd.read_csv(\"sec_PE_data/pastHistory_sec_PE.csv\", low_memory=False)"
   ]
  },
  {
   "cell_type": "code",
   "execution_count": 28,
   "id": "bad973e4-0cc9-4e1f-adbf-033bf6606c96",
   "metadata": {
    "tags": []
   },
   "outputs": [
    {
     "name": "stderr",
     "output_type": "stream",
     "text": [
      "100%|██████████████████████████████████████████████████████████████████████████████████| 64/64 [00:03<00:00, 17.89it/s]\n"
     ]
    }
   ],
   "source": [
    "df_pmhinfo = get_pastHistory(df_pmh, lst_secondary_pe)"
   ]
  },
  {
   "cell_type": "code",
   "execution_count": 29,
   "id": "062b2a6b-8043-4448-b7e5-74679168c2be",
   "metadata": {
    "tags": []
   },
   "outputs": [],
   "source": [
    "# Merge the dataframe with the Comorbidities to the dataframe with the demographic data\n",
    "df_pe = pd.merge(\n",
    "    left=df_patinfo_PE,\n",
    "    right=df_pmhinfo,\n",
    "    how=\"left\",\n",
    "    on=\"patientunitstayid\"\n",
    ")"
   ]
  },
  {
   "cell_type": "markdown",
   "id": "9b77a547-e85f-419a-a105-b8cb73bee8af",
   "metadata": {
    "tags": []
   },
   "source": [
    "## APACHE IVa, APS and associated variables"
   ]
  },
  {
   "cell_type": "code",
   "execution_count": 30,
   "id": "f1471cc6-3e7d-4418-97cc-3e66d0000c85",
   "metadata": {
    "tags": []
   },
   "outputs": [],
   "source": [
    "df_apsVar = pd.read_csv(\"sec_PE_data/apacheApsVar_sec_PE.csv\", low_memory=False)\n",
    "df_predVar = pd.read_csv(\"sec_PE_data/apachePredVar_sec_PE.csv\", low_memory=False)\n",
    "df_apacheresult = pd.read_csv(\"sec_PE_data/apachePatientResult_sec_PE.csv\", low_memory=False)"
   ]
  },
  {
   "cell_type": "code",
   "execution_count": 31,
   "id": "27d51cb4-01d0-4712-a899-9af763318928",
   "metadata": {
    "tags": []
   },
   "outputs": [],
   "source": [
    "df_apsvarinfo = get_and_initial_clean_apacheApsVar(df_apsVar, lst_secondary_pe)\n",
    "df_predvarinfo = get_cleaned_apachePredVar_basics(df_predVar, lst_secondary_pe)\n",
    "df_apacheresult_info = get_cleaned_apachePatientResult_basics(df_apacheresult, lst_secondary_pe)"
   ]
  },
  {
   "cell_type": "code",
   "execution_count": 32,
   "id": "56784917-9135-4368-a935-483ba0bb8c4f",
   "metadata": {
    "tags": []
   },
   "outputs": [],
   "source": [
    "# Merge the results dataframes to the growing final dataframe\n",
    "df_pe = df_pe.merge(\n",
    "    right=df_apsvarinfo,\n",
    "    how=\"left\",\n",
    "    on=\"patientunitstayid\"\n",
    ")\n",
    "\n",
    "df_pe = df_pe.merge(\n",
    "    right=df_predvarinfo,\n",
    "    how=\"left\",\n",
    "    on=\"patientunitstayid\"\n",
    ")\n",
    "\n",
    "df_pe = df_pe.merge(\n",
    "    right=df_apacheresult_info,\n",
    "    how=\"left\",\n",
    "    on=\"patientunitstayid\"\n",
    ")"
   ]
  },
  {
   "cell_type": "code",
   "execution_count": 33,
   "id": "2f8b1a6f-48ea-42cd-83c8-0afe22e8e56e",
   "metadata": {},
   "outputs": [],
   "source": [
    "### the PESI pmh components:\n",
    "# chronic pulmonary disease: if the patient has COPD or asthma or restrictive lung disease or uses home-O2 or is s/p LuTx\n",
    "df_pe[\"PESI_pulm\"] = 0\n",
    "df_pe.loc[(df_pe['pmh_COPD'] != 0) | (df_pe['pmh_asthma'] != 0) | (df_pe['pmh_home_o2'] != 0) |\n",
    "          (df_pe['pmh_restrictive_lung_disease'] != 0) | (df_pe['pmh_s_p_lungTx'] != 0), [\"PESI_pulm\"]] = 1\n",
    "df_pe.loc[(df_pe['pmh_COPD'].isna()) & (df_pe['pmh_asthma'].isna()) & (df_pe['pmh_home_o2'].isna()) &\n",
    "          (df_pe['pmh_restrictive_lung_disease'].isna()) & (df_pe['pmh_s_p_lungTx'].isna()), [\"PESI_pulm\"]] = np.nan\n",
    "\n",
    "# heart failure\n",
    "df_pe[\"PESI_hf\"] = df_pe.pmh_CHF.map(lambda x: 1 if x != 0 else 0)\n",
    "\n",
    "# cancer: if the patient has any type of cancer or has received cancer therapy in the past\n",
    "df_pe[\"PESI_cancer\"] = 0\n",
    "df_pe[\"PESI_cancer\"] = df_pe.apply(lambda x: 1 if (x.pmh_cancer_therapy != 0 or \n",
    "                                                   x.pred_metastaticcancer > 0 or \n",
    "                                                   x.pmh_cancer != 0 or\n",
    "                                                   x.pred_lymphoma > 0 or \n",
    "                                                   x.pred_leukemia > 0) else 0, axis=1)\n",
    "\n",
    "# cancer for the sPESI\n",
    "df_pe.loc[(df_pe[\"pmh_cancer_therapy\"].isna()) &\n",
    "          (df_pe[\"pmh_cancer\"].isna()) &\n",
    "          (df_pe[\"pred_lymphoma\"].isna()) &\n",
    "          (df_pe[\"pred_metastaticcancer\"].isna()) &\n",
    "          (df_pe[\"pred_leukemia\"].isna()), [\"PESI_cancer\"]] = np.nan\n",
    "\n",
    "# chronic cardiopulmonary disease: if the patient had either chronic pulmonary disease or a range of cardiac PMH\n",
    "df_pe[\"sPESI_cardiopulm\"] = df_pe.apply(lambda x: 1 if (x.PESI_pulm > 0 or \n",
    "                                                        x.PESI_hf > 0 or \n",
    "                                                        x.pmh_MI != 0 or\n",
    "                                                        x.pmh_pacemaker != 0 or \n",
    "                                                        x.pmh_AICD != 0 or\n",
    "                                                        x.pred_midur > 0 or\n",
    "                                                        x.pmh_CA_bypass != 0) else 0, axis=1)"
   ]
  },
  {
   "cell_type": "markdown",
   "id": "91ffd622-9e55-4ff3-b846-bd81fe879985",
   "metadata": {
    "tags": []
   },
   "source": [
    "## Infusions"
   ]
  },
  {
   "cell_type": "code",
   "execution_count": 34,
   "id": "f6992238-0526-429a-a554-b42210a853db",
   "metadata": {
    "tags": []
   },
   "outputs": [],
   "source": [
    "df_infusions = pd.read_csv(\"sec_PE_data/infusionDrug_sec_PE.csv\", low_memory=False)"
   ]
  },
  {
   "cell_type": "code",
   "execution_count": 35,
   "id": "dba89611-66ab-41b3-8b88-ca30b018153f",
   "metadata": {
    "tags": []
   },
   "outputs": [],
   "source": [
    "df_inf_result_clm = get_infusion_drugs_individual_offset(\n",
    "    df_infusion=df_infusions, \n",
    "    dict_ids=dict_sec_pe_adjusted,  \n",
    "    relative_offset=(-720, 720)\n",
    ")\n",
    "\n",
    "df_inf_result_clm = df_inf_result_clm.rename(columns={\"infusion_vaso_ino\": f\"ICU_sPESI_infusion_vaso_ino\"})"
   ]
  },
  {
   "cell_type": "code",
   "execution_count": 36,
   "id": "0cb6a21e-c732-40ec-afc2-bd6f0e533b4b",
   "metadata": {
    "tags": []
   },
   "outputs": [],
   "source": [
    "# Merge the results dataframe to the growing final dataframe\n",
    "df_pe = df_pe.merge(\n",
    "    right=df_inf_result_clm,\n",
    "    how=\"left\",\n",
    "    on=\"patientunitstayid\"\n",
    ")"
   ]
  },
  {
   "cell_type": "markdown",
   "id": "05040391-4fb8-4306-aac9-2841118d3c73",
   "metadata": {},
   "source": [
    "## AMS"
   ]
  },
  {
   "cell_type": "code",
   "execution_count": 37,
   "id": "6ba6ec0c-e307-4dfd-b4ab-2daba9f8c9fd",
   "metadata": {},
   "outputs": [],
   "source": [
    "df_nurseCharting = pd.read_csv(\"sec_PE_data/nurseCharting_sec_PE.csv\", low_memory=False)\n",
    "df_physical = pd.read_csv(\"sec_PE_data/physicalExam_sec_PE.csv\", low_memory=False)"
   ]
  },
  {
   "cell_type": "code",
   "execution_count": 38,
   "id": "c083bd5b-9d7b-4634-b004-bc064d256235",
   "metadata": {
    "tags": []
   },
   "outputs": [],
   "source": [
    "# We defined AMS as a GCS verbal score < 5 (less than full score) \n",
    "   \n",
    "df_ams_res_clm = get_AMS_from_individual_offset_GCS(\n",
    "    df_physical=df_physical, \n",
    "    df_nurse_chart=df_nurseCharting, \n",
    "    dict_ids=dict_sec_pe_adjusted, \n",
    "    relative_offset=(-720, 720)\n",
    ")\n",
    "    \n",
    "df_ams_res_clm = df_ams_res_clm.rename(columns={f\"ams_individ_start_-720to720\": f\"PESI_ams\"})"
   ]
  },
  {
   "cell_type": "code",
   "execution_count": 39,
   "id": "68d856a3-963d-4796-b531-f35d9bb9ac0b",
   "metadata": {},
   "outputs": [],
   "source": [
    "# Merge the results dataframe to the growing final dataframe\n",
    "df_pe = df_pe.merge(\n",
    "    right=df_ams_res_clm,\n",
    "    how=\"left\",\n",
    "    on=\"patientunitstayid\"\n",
    ")"
   ]
  },
  {
   "cell_type": "markdown",
   "id": "d78d273b-0fe7-4c4d-8130-f2fd47471416",
   "metadata": {},
   "source": [
    "## Intubation"
   ]
  },
  {
   "cell_type": "code",
   "execution_count": 40,
   "id": "2a3cb17c-b314-4881-a9f9-589aecfa5723",
   "metadata": {},
   "outputs": [],
   "source": [
    "df_resp_chart = pd.read_csv(\"sec_PE_data/respiratoryCharting_sec_PE.csv\", low_memory=False)\n",
    "df_resp_care = pd.read_csv(\"sec_PE_data/respiratoryCare_sec_PE.csv\", low_memory=False)"
   ]
  },
  {
   "cell_type": "code",
   "execution_count": 41,
   "id": "ee72b367-6b25-488d-b7fb-9703c7b200b5",
   "metadata": {
    "tags": []
   },
   "outputs": [],
   "source": [
    "df_intub_res_clm = get_mechanically_ventilated_individual_offset(\n",
    "    df_resp_chart=df_resp_chart, \n",
    "    df_resp_care=df_resp_care, \n",
    "    df_physical=df_physical, \n",
    "    df_nurse_chart=df_nurseCharting, \n",
    "    dict_ids=dict_sec_pe_adjusted,\n",
    "    relative_offset=(-720, 720)\n",
    ")\n",
    "\n",
    "df_intub_res_clm = df_intub_res_clm.rename(columns={f\"mech_vent_individ_start_-720to720\": f\"ICU_sPESI_intub\"})"
   ]
  },
  {
   "cell_type": "code",
   "execution_count": 42,
   "id": "e6cee029-585c-4c74-9556-9e2cc3f6a7d5",
   "metadata": {},
   "outputs": [],
   "source": [
    "# Merge the results dataframe to the growing final dataframe\n",
    "df_pe = df_pe.merge(\n",
    "    right=df_intub_res_clm,\n",
    "    how=\"left\",\n",
    "    on=\"patientunitstayid\"\n",
    ")"
   ]
  },
  {
   "cell_type": "markdown",
   "id": "6d7e904a-7c95-45b6-8ace-ce21995b3bfc",
   "metadata": {
    "tags": []
   },
   "source": [
    "## Vitals"
   ]
  },
  {
   "cell_type": "code",
   "execution_count": 43,
   "id": "0dd629cd-e253-4014-afe7-7b79a5ea33fa",
   "metadata": {
    "tags": []
   },
   "outputs": [],
   "source": [
    "df_periodic = pd.read_csv(\"sec_PE_data/vitalPeriodic_sec_PE.csv\", low_memory=False)\n",
    "df_a_periodic = pd.read_csv(\"sec_PE_data/vitalAperiodic_sec_PE.csv\", low_memory=False)"
   ]
  },
  {
   "cell_type": "code",
   "execution_count": 44,
   "id": "f4806042-3b0f-42b1-bdb5-16cbf03bd692",
   "metadata": {
    "tags": []
   },
   "outputs": [
    {
     "name": "stderr",
     "output_type": "stream",
     "text": [
      "  0%|                                                                                            | 0/4 [00:00<?, ?it/s]<ipython-input-20-923e6f533efe>:156: FutureWarning: The default of observed=False is deprecated and will be changed to True in a future version of pandas. Pass observed=False to retain current behavior or observed=True to adopt the future default and silence this warning.\n",
      "  df_grouped_hours = (df_temp\n",
      " 25%|█████████████████████                                                               | 1/4 [00:04<00:12,  4.10s/it]<ipython-input-20-923e6f533efe>:156: FutureWarning: The default of observed=False is deprecated and will be changed to True in a future version of pandas. Pass observed=False to retain current behavior or observed=True to adopt the future default and silence this warning.\n",
      "  df_grouped_hours = (df_temp\n",
      " 50%|██████████████████████████████████████████                                          | 2/4 [00:06<00:06,  3.37s/it]<ipython-input-20-923e6f533efe>:156: FutureWarning: The default of observed=False is deprecated and will be changed to True in a future version of pandas. Pass observed=False to retain current behavior or observed=True to adopt the future default and silence this warning.\n",
      "  df_grouped_hours = (df_temp\n",
      " 75%|███████████████████████████████████████████████████████████████                     | 3/4 [00:10<00:03,  3.47s/it]<ipython-input-20-923e6f533efe>:156: FutureWarning: The default of observed=False is deprecated and will be changed to True in a future version of pandas. Pass observed=False to retain current behavior or observed=True to adopt the future default and silence this warning.\n",
      "  df_grouped_hours = (df_temp\n",
      "100%|████████████████████████████████████████████████████████████████████████████████████| 4/4 [00:14<00:00,  3.59s/it]\n",
      "  0%|                                                                                            | 0/3 [00:00<?, ?it/s]<ipython-input-21-1be6520350ae>:115: FutureWarning: The default of observed=False is deprecated and will be changed to True in a future version of pandas. Pass observed=False to retain current behavior or observed=True to adopt the future default and silence this warning.\n",
      "  df_grouped_all = (df_temp_whole\n",
      " 33%|████████████████████████████                                                        | 1/3 [00:03<00:06,  3.00s/it]<ipython-input-21-1be6520350ae>:115: FutureWarning: The default of observed=False is deprecated and will be changed to True in a future version of pandas. Pass observed=False to retain current behavior or observed=True to adopt the future default and silence this warning.\n",
      "  df_grouped_all = (df_temp_whole\n",
      " 67%|████████████████████████████████████████████████████████                            | 2/3 [00:05<00:02,  2.99s/it]<ipython-input-21-1be6520350ae>:115: FutureWarning: The default of observed=False is deprecated and will be changed to True in a future version of pandas. Pass observed=False to retain current behavior or observed=True to adopt the future default and silence this warning.\n",
      "  df_grouped_all = (df_temp_whole\n",
      "100%|████████████████████████████████████████████████████████████████████████████████████| 3/3 [00:08<00:00,  3.00s/it]\n"
     ]
    }
   ],
   "source": [
    "### General (median) vitals\n",
    "# dictionaries of extreme vitals that were excluded as outliers\n",
    "dict_vitals = {\n",
    "    \"heartrate\": (20, 200),\n",
    "    \"temperature\": (32, 43),\n",
    "    \"respiration\": (3, 80),\n",
    "    \"sao2\": (50, 100),\n",
    "}\n",
    "\n",
    "dict_vitals_combined = {\n",
    "    \"systolic\": (20, 250),\n",
    "    \"diastolic\": (5, 180),\n",
    "    \"mean_bp\": (10, 200)\n",
    "}\n",
    "\n",
    "lst_clms_vitals_general = []\n",
    "\n",
    "# for the \"periodic\" vitals\n",
    "for key, values in tqdm(dict_vitals.items()):\n",
    "    \n",
    "    if key == \"temperature\":\n",
    "        df_temp = fast_vitals_periodic_individual_offset(\n",
    "            df_periodic=df_periodic, \n",
    "            dict_ids=dict_sec_pe_adjusted, \n",
    "            vital_name=key, \n",
    "            realistic_bounds=values, \n",
    "            relative_offset=(-720, 720),  \n",
    "            agg_total=\"median\", \n",
    "            timeunit=30, \n",
    "            temp_nurse_bool=True, \n",
    "            temp_nursechart=df_nurseCharting)\n",
    "\n",
    "            \n",
    "    else:\n",
    "        df_temp = fast_vitals_periodic_individual_offset(\n",
    "            df_periodic=df_periodic, \n",
    "            dict_ids=dict_sec_pe_adjusted, \n",
    "            vital_name=key, \n",
    "            realistic_bounds=values, \n",
    "            relative_offset=(-720, 720),  \n",
    "            agg_total=\"median\", \n",
    "            timeunit=30)\n",
    "        \n",
    "    lst_clms_vitals_general.append(df_temp)\n",
    "\n",
    "# for the vitals (the blood pressures) that use both the periodic and aperiodic datafiles\n",
    "for key, values in tqdm(dict_vitals_combined.items()):\n",
    "\n",
    "    df_temp = fast_vitals_combined_individual_offset(\n",
    "        df_periodic=df_periodic, \n",
    "        df_aperiodic=df_a_periodic,\n",
    "        dict_ids=dict_sec_pe_adjusted, \n",
    "        vital_name=key, \n",
    "        realistic_bounds=values, \n",
    "        relative_offset=(-720, 720), \n",
    "        agg_total=\"median\", \n",
    "        timeunit=30)\n",
    "\n",
    "    lst_clms_vitals_general.append(df_temp)\n",
    "\n",
    "lst_clms_vitals_general_indexed = [df.set_index(\"patientunitstayid\") for df in lst_clms_vitals_general]\n",
    "df_final_vitals_general = pd.concat(lst_clms_vitals_general_indexed, axis=1)\n"
   ]
  },
  {
   "cell_type": "code",
   "execution_count": 45,
   "id": "29a6cbdc-b385-4be1-a103-8ffc4ba99148",
   "metadata": {
    "tags": []
   },
   "outputs": [],
   "source": [
    "# Merge the results dataframe to the growing final dataframe\n",
    "df_pe = df_pe.merge(\n",
    "    right=df_final_vitals_general,\n",
    "    how=\"left\",\n",
    "    on=\"patientunitstayid\"\n",
    ")"
   ]
  },
  {
   "cell_type": "code",
   "execution_count": 46,
   "id": "d945338d-c260-422d-be8a-88eb4b7d20fb",
   "metadata": {
    "tags": []
   },
   "outputs": [
    {
     "name": "stderr",
     "output_type": "stream",
     "text": [
      "  0%|                                                                                            | 0/4 [00:00<?, ?it/s]<ipython-input-20-923e6f533efe>:156: FutureWarning: The default of observed=False is deprecated and will be changed to True in a future version of pandas. Pass observed=False to retain current behavior or observed=True to adopt the future default and silence this warning.\n",
      "  df_grouped_hours = (df_temp\n",
      " 25%|█████████████████████                                                               | 1/4 [00:03<00:11,  3.91s/it]<ipython-input-20-923e6f533efe>:156: FutureWarning: The default of observed=False is deprecated and will be changed to True in a future version of pandas. Pass observed=False to retain current behavior or observed=True to adopt the future default and silence this warning.\n",
      "  df_grouped_hours = (df_temp\n",
      " 50%|██████████████████████████████████████████                                          | 2/4 [00:06<00:06,  3.32s/it]<ipython-input-20-923e6f533efe>:156: FutureWarning: The default of observed=False is deprecated and will be changed to True in a future version of pandas. Pass observed=False to retain current behavior or observed=True to adopt the future default and silence this warning.\n",
      "  df_grouped_hours = (df_temp\n",
      " 75%|███████████████████████████████████████████████████████████████                     | 3/4 [00:10<00:03,  3.59s/it]<ipython-input-20-923e6f533efe>:156: FutureWarning: The default of observed=False is deprecated and will be changed to True in a future version of pandas. Pass observed=False to retain current behavior or observed=True to adopt the future default and silence this warning.\n",
      "  df_grouped_hours = (df_temp\n",
      "100%|████████████████████████████████████████████████████████████████████████████████████| 4/4 [00:15<00:00,  3.76s/it]\n",
      "  0%|                                                                                            | 0/1 [00:00<?, ?it/s]<ipython-input-21-1be6520350ae>:115: FutureWarning: The default of observed=False is deprecated and will be changed to True in a future version of pandas. Pass observed=False to retain current behavior or observed=True to adopt the future default and silence this warning.\n",
      "  df_grouped_all = (df_temp_whole\n",
      "100%|████████████████████████████████████████████████████████████████████████████████████| 1/1 [00:03<00:00,  3.00s/it]\n"
     ]
    }
   ],
   "source": [
    "### \"worst\" vitals for the score calculation\n",
    "# dictionaries of extreme vitals that were excluded as outliers\n",
    "dict_vitals = {\n",
    "    \"heartrate\": [(20, 200), \"max\", 109],\n",
    "    \"temperature\": [(32, 43), \"min\", 36],\n",
    "    \"respiration\": [(3, 80), \"max\", 29],\n",
    "    \"sao2\": [(50, 100), \"min\", 90]\n",
    "}\n",
    "\n",
    "dict_vitals_combined = {\n",
    "    \"systolic\": [(20, 250), \"min\", 100]\n",
    "}\n",
    "\n",
    "lst_clms_pesi_vitals = []\n",
    "\n",
    "dict_sec_pe_adjusted\n",
    "\n",
    "# for the \"periodic\" vitals\n",
    "for key, values in tqdm(dict_vitals.items()):\n",
    "    realistic = values[0]\n",
    "    direction = values[1]\n",
    "    thresh = values[2]\n",
    "\n",
    "    clm_name = \"PESI_{}\".format(key)\n",
    "    internal_clm_name = \"{}_{}_individ_offset_rel_-720to720_u30\".format(key, direction)\n",
    "\n",
    "    if key == \"temperature\":\n",
    "        df_temp = fast_vitals_periodic_individual_offset(\n",
    "            df_periodic=df_periodic, \n",
    "            dict_ids=dict_sec_pe_adjusted, \n",
    "            vital_name=key, \n",
    "            realistic_bounds=realistic, \n",
    "            relative_offset=(-720, 720),  \n",
    "            agg_total=direction, \n",
    "            timeunit=30, \n",
    "            temp_nurse_bool=True, \n",
    "            temp_nursechart=df_nurseCharting)\n",
    "\n",
    "\n",
    "    else:\n",
    "        df_temp = fast_vitals_periodic_individual_offset(\n",
    "            df_periodic=df_periodic, \n",
    "            dict_ids=dict_sec_pe_adjusted, \n",
    "            vital_name=key, \n",
    "            realistic_bounds=realistic, \n",
    "            relative_offset=(-720, 720),  \n",
    "            agg_total=direction, \n",
    "            timeunit=30)\n",
    "\n",
    "\n",
    "    df_clm = df_temp.rename(columns={internal_clm_name: clm_name})\n",
    "\n",
    "    if direction == \"max\":\n",
    "        df_clm[clm_name] = df_clm[clm_name].map(lambda x: 1 if x > thresh else 0)\n",
    "    else:\n",
    "        df_clm[clm_name] = df_clm[clm_name].map(lambda x: 1 if x < thresh else 0)\n",
    "\n",
    "    lst_clms_pesi_vitals.append(df_clm)\n",
    "\n",
    "# for vital \"systolic\" that uses both the periodic and aperiodic datafiles\n",
    "for key, values in tqdm(dict_vitals_combined.items()):\n",
    "    realistic = values[0]\n",
    "    direction = values[1]\n",
    "    thresh = values[2]\n",
    "\n",
    "    clm_name = \"PESI_{}\".format(key)\n",
    "    internal_clm_name = \"{}_{}_individ_offset_rel_-720to720_u30\".format(key, direction)\n",
    "\n",
    "    df_temp = fast_vitals_combined_individual_offset(\n",
    "        df_periodic=df_periodic, \n",
    "        df_aperiodic=df_a_periodic,\n",
    "        dict_ids=dict_sec_pe_adjusted, \n",
    "        vital_name=key, \n",
    "        realistic_bounds=realistic, \n",
    "        relative_offset=(-720, 720), \n",
    "        agg_total=direction, \n",
    "        timeunit=30)\n",
    "\n",
    "    df_clm = df_temp.rename(columns={internal_clm_name: clm_name})\n",
    "\n",
    "    if direction == \"max\":\n",
    "        df_clm[clm_name] = df_clm[clm_name].map(lambda x: 1 if x > thresh else 0)\n",
    "    else:\n",
    "        df_clm[clm_name] = df_clm[clm_name].map(lambda x: 1 if x < thresh else 0)\n",
    "\n",
    "    lst_clms_pesi_vitals.append(df_clm)\n",
    "\n",
    "lst_clms_pesi_vitals_indexed = [df.set_index(\"patientunitstayid\") for df in lst_clms_pesi_vitals]\n",
    "df_final_vitals_pesi = pd.concat(lst_clms_pesi_vitals_indexed, axis=1)\n"
   ]
  },
  {
   "cell_type": "code",
   "execution_count": 47,
   "id": "4cbcd4a3-fe07-48b1-bbf5-491b6b8a543b",
   "metadata": {
    "tags": []
   },
   "outputs": [],
   "source": [
    "# Merge the results dataframe to the growing final dataframe\n",
    "df_pe = df_pe.merge(\n",
    "    right=df_final_vitals_pesi,\n",
    "    how=\"left\",\n",
    "    on=\"patientunitstayid\"\n",
    ")"
   ]
  },
  {
   "cell_type": "markdown",
   "id": "bd3a875d-07f4-42ce-80ce-69563bccba30",
   "metadata": {},
   "source": [
    "## Time-to-death"
   ]
  },
  {
   "cell_type": "code",
   "execution_count": 48,
   "id": "a85407ab-fb66-409d-a01c-aa20c201418d",
   "metadata": {},
   "outputs": [],
   "source": [
    "df_ttd_pe = time_to_death_from_unit_admission(df_pat=df_pat, \n",
    "                                              df_apache_res=df_apacheresult, \n",
    "                                              lst_ids=lst_secondary_pe)"
   ]
  },
  {
   "cell_type": "code",
   "execution_count": 49,
   "id": "cce2f47c-7ee6-4723-9f9e-4860cf210018",
   "metadata": {},
   "outputs": [],
   "source": [
    "df_pe = df_pe.merge(\n",
    "    right=df_ttd_pe,\n",
    "    how=\"left\",\n",
    "    on=\"patientunitstayid\"\n",
    ")"
   ]
  },
  {
   "cell_type": "markdown",
   "id": "40bf1dd1-41d6-4e7f-823c-29872d9c02cb",
   "metadata": {},
   "source": [
    "## Time to PE"
   ]
  },
  {
   "cell_type": "code",
   "execution_count": 50,
   "id": "cb179945-4202-445a-9cfa-074ff961be9f",
   "metadata": {
    "tags": []
   },
   "outputs": [],
   "source": [
    "df_pe[\"time_to_PE_diag\"] = df_pe.patientunitstayid.map(dict_sec_pe_times)\n",
    "df_pe.time_to_PE_diag = df_pe.time_to_PE_diag.map(lambda x: 0 if x<0 else x)"
   ]
  },
  {
   "cell_type": "markdown",
   "id": "2fa699c7-cc7e-4ded-a258-b8af25b1e1de",
   "metadata": {},
   "source": [
    "## Admission Diagnosis / from OR"
   ]
  },
  {
   "cell_type": "code",
   "execution_count": 51,
   "id": "e4fbe821-04b2-488a-b1be-b52f5766b99f",
   "metadata": {
    "tags": []
   },
   "outputs": [
    {
     "name": "stderr",
     "output_type": "stream",
     "text": [
      "100%|████████████████████████████████████████████████████████████████████████████████████| 3/3 [00:00<00:00, 42.37it/s]\n",
      "100%|████████████████████████████████████████████████████████████████████████████████████| 2/2 [00:00<00:00, 42.64it/s]\n"
     ]
    }
   ],
   "source": [
    "df_admdx = pd.read_csv(\"sec_PE_data/admissiondx_sec_PE.csv\", low_memory=False)\n",
    "\n",
    "df_admdx_long = get_admissionDx_basicinfo_longformat(df_admdx, lst_secondary_pe)\n",
    "\n",
    "df_pe = df_pe.merge(\n",
    "    right=df_admdx_long,\n",
    "    how=\"left\",\n",
    "    on=\"patientunitstayid\"\n",
    ")"
   ]
  },
  {
   "cell_type": "markdown",
   "id": "f4d341ff-6903-43f9-9ecd-4ebd4545ab39",
   "metadata": {
    "tags": []
   },
   "source": [
    "# PESI score calculation"
   ]
  },
  {
   "cell_type": "code",
   "execution_count": 52,
   "id": "7469af8e-35ea-4b48-97d7-2857fa08400f",
   "metadata": {
    "tags": []
   },
   "outputs": [],
   "source": [
    "## PESI score and PESI classes  \n",
    "#calculate the PESI scores\n",
    "df_pe[f\"PESI_score\"] = df_pe.apply(lambda row: row[\"age\"] + row[\"PESI_gender\"]*10 +\n",
    "                                          row[\"PESI_cancer\"]*30 + row[\"PESI_hf\"]*10 +\n",
    "                                          row[\"PESI_pulm\"]*10 + row[f\"PESI_heartrate\"]*20 +\n",
    "                                          row[f\"PESI_systolic\"]*30 + row[f\"PESI_respiration\"]*20 +\n",
    "                                          row[f\"PESI_temperature\"]*20 + row[f\"PESI_ams\"]*60 +\n",
    "                                          row[f\"PESI_sao2\"]*20, axis=1) \n",
    "\n",
    "\n",
    "# calculate the PESI classes\n",
    "df_pe[f\"PESI_class\"] = np.nan\n",
    "df_pe.loc[df_pe[f\"PESI_score\"] > 125, [f\"PESI_class\"]] = 5\n",
    "df_pe.loc[(df_pe[f\"PESI_score\"] >= 106) & (df_pe[f\"PESI_score\"] <= 125), [f\"PESI_class\"]] = 4\n",
    "df_pe.loc[(df_pe[f\"PESI_score\"] >= 86) & (df_pe[f\"PESI_score\"] <= 105), [f\"PESI_class\"]] = 3\n",
    "df_pe.loc[(df_pe[f\"PESI_score\"] >= 66) & (df_pe[f\"PESI_score\"] <= 85), [f\"PESI_class\"]] = 2\n",
    "df_pe.loc[df_pe[f\"PESI_score\"] < 66, [f\"PESI_class\"]] = 1"
   ]
  },
  {
   "cell_type": "markdown",
   "id": "8fbddb3d-7884-4681-9e90-f133a2e2b6d7",
   "metadata": {
    "tags": []
   },
   "source": [
    "# sPESI score calculation"
   ]
  },
  {
   "cell_type": "code",
   "execution_count": 53,
   "id": "30a62082-7426-40f3-91a5-61c073065234",
   "metadata": {
    "tags": []
   },
   "outputs": [],
   "source": [
    "# sPESI scores \n",
    "df_pe[f\"sPESI_score\"] = df_pe[\"sPESI_age\"] + df_pe[\"PESI_cancer\"] + df_pe[\"sPESI_cardiopulm\"] + \\\n",
    "                            df_pe[f\"PESI_heartrate\"] + df_pe[f\"PESI_systolic\"] + df_pe[f\"PESI_sao2\"]"
   ]
  },
  {
   "cell_type": "markdown",
   "id": "d7e8ef1f-6264-4425-bc2a-b83fa7da7c0a",
   "metadata": {},
   "source": [
    "# ICU-sPESI calculation"
   ]
  },
  {
   "cell_type": "code",
   "execution_count": 54,
   "id": "7ef5626a-ba0f-4579-abd8-cc8adf57c29b",
   "metadata": {
    "tags": []
   },
   "outputs": [],
   "source": [
    "# ICU-sPESI scores \n",
    "df_pe[f\"ICU_sPESI_score\"] = (df_pe[f\"sPESI_score\"] + df_pe[f\"PESI_ams\"] + df_pe[f\"ICU_sPESI_infusion_vaso_ino\"] + df_pe[f\"ICU_sPESI_intub\"]) "
   ]
  },
  {
   "cell_type": "markdown",
   "id": "1792ba9b-8c90-44c7-bd89-e11a38b3a8bd",
   "metadata": {
    "tags": []
   },
   "source": [
    "# Patient exclusion"
   ]
  },
  {
   "cell_type": "code",
   "execution_count": 55,
   "id": "f8269f2e-c77b-4e04-b4a3-25d7f2fb39ec",
   "metadata": {
    "tags": []
   },
   "outputs": [
    {
     "data": {
      "text/plain": [
       "(1276, 94)"
      ]
     },
     "execution_count": 55,
     "metadata": {},
     "output_type": "execute_result"
    }
   ],
   "source": [
    "df_pe.shape"
   ]
  },
  {
   "cell_type": "markdown",
   "id": "16fe88f0-c7c0-4685-885b-8dbfbe53c159",
   "metadata": {},
   "source": [
    "&rarr; 1276 patients total"
   ]
  },
  {
   "cell_type": "code",
   "execution_count": 56,
   "id": "0222c1f1-8d1b-4f50-ac76-3e2ae975e78f",
   "metadata": {},
   "outputs": [],
   "source": [
    "df_pe = df_pe[df_pe.time_to_PE_diag <= (48 * 60)].copy()"
   ]
  },
  {
   "cell_type": "code",
   "execution_count": 57,
   "id": "c524904e-65ed-48c4-aa83-7554e505f7c9",
   "metadata": {},
   "outputs": [
    {
     "data": {
      "text/plain": [
       "(1121, 94)"
      ]
     },
     "execution_count": 57,
     "metadata": {},
     "output_type": "execute_result"
    }
   ],
   "source": [
    "df_pe.shape"
   ]
  },
  {
   "cell_type": "markdown",
   "id": "02201eb7-bb9d-423e-b857-7bfb6a4e0a75",
   "metadata": {},
   "source": [
    "&rarr; 1121 with a secondary PE diagnosis in the first 48h after ICU admission"
   ]
  },
  {
   "cell_type": "code",
   "execution_count": 58,
   "id": "e9d319f5-ff29-4ba7-b395-05b04fcf2ac6",
   "metadata": {
    "tags": []
   },
   "outputs": [],
   "source": [
    "# excluding patients with missing data in the APACHE-IV sore, regarding in-hospital mortality, gender\n",
    "df_pe = df_pe.dropna(subset=[\"gender\", \"apachescore\", \"hospitaldischargestatus\", \"apacheadmissiondx\"])"
   ]
  },
  {
   "cell_type": "code",
   "execution_count": 59,
   "id": "5ae12ab6-e0b9-4d03-b732-2d09860dc2db",
   "metadata": {
    "tags": []
   },
   "outputs": [
    {
     "data": {
      "text/plain": [
       "(905, 94)"
      ]
     },
     "execution_count": 59,
     "metadata": {},
     "output_type": "execute_result"
    }
   ],
   "source": [
    "df_pe.shape"
   ]
  },
  {
   "cell_type": "markdown",
   "id": "f842b694-0eab-411b-a020-66d1577cd800",
   "metadata": {},
   "source": [
    "&rarr; 216 patients excluded due to missing data"
   ]
  },
  {
   "cell_type": "code",
   "execution_count": 60,
   "id": "3a4dd3df-0ce7-4b98-812f-9cedba4976ba",
   "metadata": {
    "tags": []
   },
   "outputs": [],
   "source": [
    "# excluding patients with an age < 18\n",
    "df_pe = df_pe[df_pe['age'] >= 18].copy()"
   ]
  },
  {
   "cell_type": "code",
   "execution_count": 61,
   "id": "c8a056a5-5f29-41d3-894d-088b52ac58da",
   "metadata": {
    "tags": []
   },
   "outputs": [
    {
     "data": {
      "text/plain": [
       "(905, 94)"
      ]
     },
     "execution_count": 61,
     "metadata": {},
     "output_type": "execute_result"
    }
   ],
   "source": [
    "df_pe.shape"
   ]
  },
  {
   "cell_type": "markdown",
   "id": "2b8cd925-2685-440b-9a0d-b5afdc15e65c",
   "metadata": {},
   "source": [
    "&rarr; 0 patients excluded due to age < 18 years old"
   ]
  },
  {
   "cell_type": "code",
   "execution_count": 62,
   "id": "ae4eaf55-f90d-41c2-9a8f-fa17d552640b",
   "metadata": {
    "tags": []
   },
   "outputs": [],
   "source": [
    "# excluding patient with admission diagnoses indicative of primary PE diagnosis\n",
    "lst_dx_to_drop = [\n",
    "    \"Thrombus, arterial\", \"Thrombectomy (with general anesthesia)\", \"Embolectomy (with general anesthesia)\", \"\", \"Thrombosis, vascular (deep vein)\", \"Hemorrhage/hemoptysis, pulmonary\",\n",
    "    \"Shock, cardiogenic\", \"Chest pain, atypical (noncardiac chest pain)\", \"Chest pain, respiratory\", \"Chest pain, unknown origin\", \"Vena cava filter insertion\",\n",
    "]\n",
    "df_pe = df_pe[~df_pe.apacheadmissiondx.isin(lst_dx_to_drop)].copy()"
   ]
  },
  {
   "cell_type": "code",
   "execution_count": 63,
   "id": "4af09634-e653-4b91-b77b-e9068ef82be3",
   "metadata": {
    "tags": []
   },
   "outputs": [
    {
     "data": {
      "text/plain": [
       "(812, 94)"
      ]
     },
     "execution_count": 63,
     "metadata": {},
     "output_type": "execute_result"
    }
   ],
   "source": [
    "df_pe.shape"
   ]
  },
  {
   "cell_type": "markdown",
   "id": "8e5c47b4-4457-4ad1-bf51-b8c589a5d91b",
   "metadata": {},
   "source": [
    "&rarr; 93 Patients excluded due to primary diagnoses indicative of primary PE"
   ]
  },
  {
   "cell_type": "markdown",
   "id": "74f64c9b-364c-4c01-8f2b-eced1279d78f",
   "metadata": {},
   "source": [
    "&rarr; Final cohort of 812 patients with secondary PE"
   ]
  },
  {
   "cell_type": "markdown",
   "id": "fceedf7b-7c6f-48ec-856f-9283504ceb9b",
   "metadata": {
    "tags": []
   },
   "source": [
    "# Further data processing"
   ]
  },
  {
   "cell_type": "markdown",
   "id": "158e972e-4546-4ab6-950a-321937f79cbb",
   "metadata": {
    "jp-MarkdownHeadingCollapsed": true,
    "tags": []
   },
   "source": [
    "## Functions\n"
   ]
  },
  {
   "cell_type": "code",
   "execution_count": 64,
   "id": "35014635-cd1c-4e00-af07-0af363cc1a6a",
   "metadata": {
    "tags": []
   },
   "outputs": [],
   "source": [
    "def map_pmh_cancer(x):\n",
    "    \"\"\" mapping the raw cancer string data to cancer sites and then cancer groups \"\"\"\n",
    "    # if the patient does not have cancer\n",
    "    if x == 0:\n",
    "        return 0\n",
    "    \n",
    "    # extract the specific cancer site\n",
    "    if \"Cancer-Primary Site/\" in x:\n",
    "        lst_pmh_cancer = x.split(\"|\")\n",
    "        lst_site = [i for i in lst_pmh_cancer if \"Cancer-Primary Site/\" in i]\n",
    "\n",
    "        if len(lst_site) > 1:\n",
    "            cancer_site = \"multiple\"\n",
    "\n",
    "        else:\n",
    "            site_description = lst_site[0]\n",
    "            lst_final = site_description.split(\"/\")\n",
    "            cancer_site = lst_final[1]\n",
    "\n",
    "    else:\n",
    "        cancer_site = \"other\"\n",
    "    \n",
    "    # group the cancer based on cancer site\n",
    "    # the keys of the dictionary represent all unique values for this column for this cohort\n",
    "    dict_cancer_sites = {\n",
    "        0: \"No_cancer\",\n",
    "        'none': \"No_cancer\",\n",
    "        'other': \"other\",\n",
    "        'breast': \"Breast\",\n",
    "        'lung': \"Respiratory\",\n",
    "        'colon': \"GI\",\n",
    "        'prostate': \"Genitourinary\",\n",
    "        'uterus': \"Genitourinary\",\n",
    "        'bladder': \"Genitourinary\",\n",
    "        'pancreas - adenocarcinoma': \"GI\",\n",
    "        'melanoma': \"other\",\n",
    "        'brain': \"other\",\n",
    "        'kidney': \"Genitourinary\",\n",
    "        'ovary': \"Genitourinary\",\n",
    "        'esophagus': \"GI\",\n",
    "        'bile duct': \"GI\",\n",
    "        'liver': \"GI\",\n",
    "        'multiple': \"other\",\n",
    "        'bone': \"other\",\n",
    "        'head and neck': \"other\",\n",
    "        'sarcoma': \"other\",\n",
    "        'unknown': \"other\",\n",
    "        'testes': \"Genitourinary\",\n",
    "        'stomach': \"GI\"\n",
    "    }\n",
    "    \n",
    "    cancer_group = dict_cancer_sites[cancer_site]\n",
    "\n",
    "    return cancer_group"
   ]
  },
  {
   "cell_type": "markdown",
   "id": "12d9a364-c4ce-4a4e-8acd-ed949dc807f9",
   "metadata": {
    "tags": []
   },
   "source": [
    "## Data processing"
   ]
  },
  {
   "cell_type": "code",
   "execution_count": 65,
   "id": "eed73179-2810-4a58-a6a9-2541766f8675",
   "metadata": {
    "tags": []
   },
   "outputs": [],
   "source": [
    "df_pe.gender = df_pe.gender.map({\"Female\":0, \"Male\":1})\n",
    "df_pe = df_pe.rename(columns={\"pmh_hemolytic _anemia\": \"pmh_hemolytic_anemia\"})"
   ]
  },
  {
   "cell_type": "code",
   "execution_count": 66,
   "id": "0c2dba4d-bb27-42f9-8e09-2694576c540c",
   "metadata": {
    "tags": []
   },
   "outputs": [],
   "source": [
    "# Binarize certain PMH columns\n",
    "lst_clms_binary = [\"pmh_HT_with_treatment\", \"pmh_MI\", \"pmh_angina\", \"pmh_strokes\", \"pmh_periph_vasc_disease\", \"pmh_CA_bypass\",\n",
    "                  \"pmh_PCI\", \"pmh_pacemaker\", \"pmh_AICD\", \"pmh_venous_thrombosis\", \"pmh_asthma\", \"pmh_hemolytic_anemia\",\n",
    "                  \"pmh_aplastic_anemia\", \"pmh_clotting_disorder\", \"pmh_hypercoagulable_condition\", \"pmh_hypothyroidism\", \"pmh_hyperthyroidism\", \n",
    "                  \"pmh_CHF\", \"pmh_restrictive_lung_disease\", \"pmh_card_valvular\", 'pmh_home_o2', 'pmh_seizures', 'pmh_dementia', 'pmh_neuromusk_disease',\n",
    "                  'pmh_intracranial_mass', 'pmh_sickle_cells', 'pmh_liver_cirrhosis', 'pmh_ITP']\n",
    "\n",
    "for i in lst_clms_binary:\n",
    "    df_pe.loc[(df_pe[i] != 0) & (df_pe[i].notna()), i] = 1\n",
    "    \n",
    "    \n",
    "dict_clms_to_binary = {\n",
    "    \"pmh_cancer\": \"pmh_cancer_binary\",\n",
    "    \"pmh_insulin_dep_DM\" : \"pmh_diabetes_binary\",\n",
    "    \"pmh_COPD\": \"pmh_COPD_binary\",\n",
    "    \"pmh_arrhythmias\": \"pmh_arrhythmias_binary\",\n",
    "    \"pmh_renal_insuff\": \"pmh_renal_insuff_binary\",\n",
    "    \"pmh_renal_failure\": \"pmh_renal_failure_binary\"   \n",
    "}\n",
    "\n",
    "for orig_clm, new_clm in dict_clms_to_binary.items():\n",
    "    df_pe[new_clm] = df_pe[orig_clm].map(lambda x: 1 if (x!=0 and x!=np.nan) else 0)\n"
   ]
  },
  {
   "cell_type": "code",
   "execution_count": 67,
   "id": "f26af0b5-1d9f-43fc-b34e-faca96fd1c30",
   "metadata": {
    "tags": []
   },
   "outputs": [],
   "source": [
    "# group the cancer column depending on the site of the cancer (for details see function above)\n",
    "df_pe[\"pmh_cancer_grouped\"] = df_pe[\"pmh_cancer\"].map(lambda x: map_pmh_cancer(x))"
   ]
  },
  {
   "cell_type": "code",
   "execution_count": 68,
   "id": "ee52cd99-412a-4e0d-919d-34d666c50ce2",
   "metadata": {
    "tags": []
   },
   "outputs": [],
   "source": [
    "# grouping the diabetes column depending on the type of diabetes (insulin dependent, only medication dependent and without any medication)\n",
    "def map_pmh_diabetes(x):\n",
    "    \"\"\" process the raw string data of the pmh_insulin_dep_DM column \"\"\"\n",
    "    if x == 0:\n",
    "        return 0\n",
    "\n",
    "    if \"non-medication\" in x:\n",
    "        return \"dm_without_treatment\"\n",
    "\n",
    "    if x == \"medication dependent\":\n",
    "        return \"medication_only\"\n",
    "\n",
    "    if \"insulin\" in x:\n",
    "        return \"including_Insulin\"\n",
    "\n",
    "df_pe[\"pmh_diabetes\"] = df_pe[\"pmh_insulin_dep_DM\"].map(lambda x: map_pmh_diabetes(x))"
   ]
  },
  {
   "cell_type": "code",
   "execution_count": 69,
   "id": "ebc24f96-d4ec-4dca-b9fe-420cf740c195",
   "metadata": {
    "tags": []
   },
   "outputs": [],
   "source": [
    "# grouping the COPD column depending on the severity of the COPD\n",
    "# the keys of the dictionary represent all unique values for this column for this cohort\n",
    "dict_pmhCOPD = {\n",
    "    0: 0,\n",
    "    \"COPD  - moderate\": \"COPD_moderate\",\n",
    "    \"COPD  - no limitations\": \"COPD_mild\",\n",
    "    \"COPD  - severe\": \"COPD_severe\",\n",
    "    \"COPD  - moderate|COPD  - severe\": \"COPD_severe\",\n",
    "    \"COPD  - no limitations|COPD  - severe\": \"COPD_severe\",\n",
    "    \"COPD severe\": \"COPD_ severe\"\n",
    "}\n",
    "\n",
    "df_pe[\"pmh_COPD\"] = df_pe[\"pmh_COPD\"].map(dict_pmhCOPD)"
   ]
  },
  {
   "cell_type": "code",
   "execution_count": 70,
   "id": "af54d433-85e4-40ef-8bda-9ce3d3233ce9",
   "metadata": {
    "tags": []
   },
   "outputs": [],
   "source": [
    "# grouping the cardiac arrythmias column depending on whether the recorded arrythmias included atrial fibrillation or not\n",
    "def map_pmh_arrhythmias(x):\n",
    "    if x == 0:\n",
    "        return 0\n",
    "\n",
    "    if \"atrial fibrillation\" in x:\n",
    "        return \"Afib_orwith\"\n",
    "\n",
    "    else:\n",
    "        return \"other_arrhythmia\"\n",
    "\n",
    "\n",
    "df_pe[\"pmh_arrhythmias\"] = df_pe[\"pmh_arrhythmias\"].map(lambda x: map_pmh_arrhythmias(x))"
   ]
  },
  {
   "cell_type": "code",
   "execution_count": 71,
   "id": "f42e2f68-2bdd-48bf-b0a9-c6ed75ffceed",
   "metadata": {
    "tags": []
   },
   "outputs": [],
   "source": [
    "# grouping the COPD column depending on whether the patients were on dialysis or not\n",
    "# the keys of the dictionary represent all unique values for this column for this cohort\n",
    "dict_renal_failure = {\n",
    "    0: 0,\n",
    "    \"renal failure - hemodialysis\": \"renal_fail_w_dialysis\",\n",
    "    \"renal failure- not currently dialyzed\": \"renal_fail_no_dialysis\",\n",
    "    \"renal failure - peritoneal dialysis\": \"renal_fail_w_dialysis\"\n",
    "}\n",
    "\n",
    "df_pe[\"pmh_renal_failure\"] = df_pe[\"pmh_renal_failure\"].map(dict_renal_failure)"
   ]
  },
  {
   "cell_type": "code",
   "execution_count": 72,
   "id": "ea66d3a3-b3bd-4797-8a35-9828bc374277",
   "metadata": {
    "tags": []
   },
   "outputs": [],
   "source": [
    "# grouping the previous PE column depending on whether it was a single or multiple previous PE\n",
    "def map_pmh_PE(x):\n",
    "    if x == 0:\n",
    "        return 0\n",
    "\n",
    "    if \"multiple\" in x:\n",
    "        return \"multiple_PE\"\n",
    "\n",
    "    else:\n",
    "        return \"single_PE\"\n",
    "\n",
    "df_pe[\"pmh_PE\"] = df_pe[\"pmh_PE\"].map(lambda x: map_pmh_PE(x))"
   ]
  },
  {
   "cell_type": "code",
   "execution_count": 73,
   "id": "b79242e6-ff9f-44b2-9087-0ed268183e40",
   "metadata": {
    "tags": []
   },
   "outputs": [],
   "source": [
    "### grouping other comorbidities\n",
    "# Coronary artery disease and other large vessel disease: myocardial infarction, angina, strokes, peripheral vascular disease, \n",
    "# coronary artery bypass, percutaneous coronary intervention\n",
    "df_pe[\"pmh_CAD_and_other_large_vessel\"] = df_pe.apply(lambda x: 1 if x.pmh_MI == 1 or x.pmh_angina == 1 or x.pmh_strokes == 1 or x.pmh_periph_vasc_disease == 1 \n",
    "                                                      or x.pmh_CA_bypass == 1 or x.pmh_PCI == 1 else 0, axis=1)\n",
    "\n",
    "# pacemaker: either a normal pacemaker or an AICD\n",
    "df_pe[\"pmh_any_pacemaker\"] = df_pe.apply(lambda x: 1 if x.pmh_pacemaker == 1 or x.pmh_AICD == 1 else 0, axis=1)\n",
    "\n",
    "# Venous thomboses & PE\n",
    "df_pe[\"pmh_venous_thromb_and_PE\"] = df_pe.apply(lambda x: 1 if x.pmh_venous_thrombosis == 1 or (x.pmh_PE!=0 and x.pmh_PE!=np.nan) else 0, axis=1)\n",
    "\n",
    "# obstructive lung disease: COPD and asthma\n",
    "df_pe[\"pmh_obstructive_LD\"] = df_pe.apply(lambda x: 1 if (x.pmh_COPD!=0 and x.pmh_COPD!=np.nan) or x.pmh_asthma == 1 else 0, axis=1)\n",
    "\n",
    "# anemias\n",
    "df_pe[\"pmh_anemias\"] = df_pe.apply(lambda x: 1 if x.pmh_hemolytic_anemia == 1 or x.pmh_aplastic_anemia == 1 else 0, axis=1)\n",
    "\n",
    "# thyroid diseases (bother hyper- and hpoythyroidism)\n",
    "df_pe[\"pmh_thyroid_disease\"] = df_pe.apply(lambda x: 1 if x.pmh_hypothyroidism == 1 or x.pmh_hyperthyroidism == 1 else 0, axis=1)\n",
    "\n",
    "# arrythmias & pacemakers\n",
    "df_pe[\"pmh_cardiac_arrythmias_incl_pacemakers\"] = df_pe.apply(lambda x: 1 if (x.pmh_arrhythmias_binary != 0 or \n",
    "                                                                              x.pmh_any_pacemaker != 0) else 0, axis=1)\n",
    "\n",
    "# obstructive + restrictive LD\n",
    "df_pe[\"pmh_obs_restr_LD\"] = df_pe.apply(lambda x: 1 if (x.pmh_obstructive_LD != 0 or \n",
    "                                                        x.pmh_home_o2 != 0 or \n",
    "                                                        x.pmh_restrictive_lung_disease != 0) else 0, axis=1)\n",
    "\n",
    "# All neuro\n",
    "df_pe[\"pmh_neuro_grouped\"] = df_pe.apply(lambda x: 1 if (x.pmh_seizures != 0 or \n",
    "                                                         x.pmh_dementia != 0 or \n",
    "                                                         x.pmh_intracranial_mass != 0 or \n",
    "                                                         x.pmh_neuromusk_disease != 0) else 0, axis=1)\n",
    "\n",
    "# all endocrine\n",
    "df_pe[\"pmh_endocrine_grouped\"] = df_pe.apply(lambda x: 1 if (x.pmh_diabetes_binary != 0 or \n",
    "                                                                       x.pmh_thyroid_disease != 0) else 0, axis=1)\n"
   ]
  },
  {
   "cell_type": "code",
   "execution_count": 74,
   "id": "bf574131-872f-43f0-b7b7-66e0ca2a980b",
   "metadata": {
    "tags": []
   },
   "outputs": [],
   "source": [
    "## grouping the admission diagnoses\n",
    "# the surgical admission diagnoses\n",
    "df_pe[\"admdx_group_descriptive\"] = np.nan\n",
    "\n",
    "df_pe[\"admdx_group_descriptive\"] = df_pe[\"admdx_group_descriptive\"].astype(object)\n",
    "\n",
    "df_pe.loc[df_pe.admdx_admitted_from_OR == \"Yes\", \"admdx_group_descriptive\"] = \"surgery_other\"\n",
    "df_pe.loc[df_pe.admdx_op_organsystem == \"Gastrointestinal\", \"admdx_group_descriptive\"] = \"surgery_GI\"\n",
    "df_pe.loc[df_pe.admdx_op_organsystem == \"Neurologic\", \"admdx_group_descriptive\"] = \"surgery_neuro\"\n",
    "df_pe.loc[df_pe.admdx_op_organsystem == \"Cardiovascular\", \"admdx_group_descriptive\"] = \"surgery_card_vasc\"\n",
    "df_pe.loc[df_pe.admdx_op_organsystem == \"Respiratory\", \"admdx_group_descriptive\"] = \"surgery_respiratory\""
   ]
  },
  {
   "cell_type": "code",
   "execution_count": 75,
   "id": "df9e0aed-da4a-48b3-bcf7-af9a3259e6ae",
   "metadata": {
    "tags": []
   },
   "outputs": [],
   "source": [
    "# non-surgical admission diagnoses\n",
    "# Sepsis\n",
    "df_pe.loc[df_pe.apacheadmissiondx.str.contains(\"sepsis\", regex=False, case=False), \"admdx_group_descriptive\"] = \"non_surg_sepsis\"\n",
    "\n",
    "# Whole organ systems\n",
    "df_pe.loc[df_pe.admdx_non_op_organsystem == \"Genitourinary\", \"admdx_group_descriptive\"] = \"non_surg_genitourinary_all\"\n",
    "df_pe.loc[df_pe.admdx_non_op_organsystem == \"Hematology\", \"admdx_group_descriptive\"] = \"non_surg_hematology_all\"\n",
    "df_pe.loc[df_pe.admdx_non_op_organsystem == \"Metabolic/Endocrine\", \"admdx_group_descriptive\"] = \"non_surg_endocrine_all\"\n",
    "df_pe.loc[(df_pe.admdx_non_op_organsystem == \"Musculoskeletal/Skin\") | (df_pe.admdx_non_op_organsystem == \"Trauma\"), \"admdx_group_descriptive\"] = \"non_surg_msk_trauma_all\"\n",
    "\n",
    "# GI\n",
    "df_pe.loc[(df_pe.admdx_non_op_organsystem == \"Gastrointestinal\") & \n",
    "          (df_pe.apacheadmissiondx.str.contains(\"bleeding\", regex=False, case=False) | (df_pe.apacheadmissiondx.str.contains(\"hemorrhage\", regex=False, case=False))), \"admdx_group_descriptive\"] = \"non_surg_GI_bleed\"\n",
    "df_pe.loc[(df_pe.admdx_non_op_organsystem == \"Gastrointestinal\") & (df_pe.admdx_group_descriptive != \"non_surg_GI_bleed\"), \"admdx_group_descriptive\"] = \"non_surg_GI_other\"\n",
    "\n",
    "# Neuro\n",
    "df_pe.loc[(df_pe.admdx_non_op_organsystem == \"Neurologic\") & \n",
    "          df_pe.apacheadmissiondx.isin([\"CVA, cerebrovascular accident/stroke\", \"Hemorrhage/hematoma, intracranial\", \"Hematoma, subdural\"]), \"admdx_group_descriptive\"] = \"non_surg_neuro_stroke_bleed\"\n",
    "df_pe.loc[(df_pe.admdx_non_op_organsystem == \"Neurologic\") & (df_pe.admdx_group_descriptive != \"non_surg_neuro_stroke_bleed\"), \"admdx_group_descriptive\"] = \"non_surg_neuro_other\"\n",
    "\n",
    "# Respiratory\n",
    "df_pe.loc[(df_pe.admdx_non_op_organsystem == \"Respiratory\") & \n",
    "          df_pe.apacheadmissiondx.str.contains(\"pneumonia\", regex=False, case=False), \"admdx_group_descriptive\"] = \"non_surg_resp_pneumonia\"\n",
    "df_pe.loc[(df_pe.admdx_non_op_organsystem == \"Respiratory\") & (df_pe.apacheadmissiondx == \"Emphysema/bronchitis\"), \"admdx_group_descriptive\"] = \"non_surg_resp_emphys_bronchitis\"\n",
    "df_pe.loc[(df_pe.admdx_non_op_organsystem == \"Respiratory\") & (df_pe.apacheadmissiondx == \"Arrest, respiratory (without cardiac arrest)\"), \"admdx_group_descriptive\"] = \"non_surg_resp_resparrest\"\n",
    "df_pe.loc[(df_pe.admdx_non_op_organsystem == \"Respiratory\") & (df_pe.apacheadmissiondx == \"ARDS-adult respiratory distress syndrome, non-cardiogenic pulmonary edema\"), \"admdx_group_descriptive\"] = \"non_surg_resp_ards\"\n",
    "df_pe.loc[(df_pe.admdx_non_op_organsystem == \"Respiratory\") & (df_pe.admdx_group_descriptive.isna()), \"admdx_group_descriptive\"] = \"non_surg_resp_other\"\n",
    "\n",
    "# Cardivascular\n",
    "df_pe.loc[(df_pe.admdx_non_op_organsystem == \"Cardiovascular\") & \n",
    "          df_pe.apacheadmissiondx.isin([\"Cardiac arrest (with or without respiratory arrest; for respiratory arrest see Respiratory System)\", \n",
    "                                        \"Infarction, acute myocardial (MI)\", \"Angina, unstable (angina interferes w/quality of life or meds are tolerated poorly)\", \n",
    "                                        \"MI admitted > 24 hrs after onset of ischemia\", \"Angina, stable (asymp or stable pattern of symptoms w/meds)\"]), \n",
    "          \"admdx_group_descriptive\"] = \"non_surg_cardio_mi_arrest_angina\"\n",
    "df_pe.loc[(df_pe.admdx_non_op_organsystem == \"Cardiovascular\") & (df_pe.apacheadmissiondx == \"CHF, congestive heart failure\"), \"admdx_group_descriptive\"] = \"non_surg_cardio_chf\"\n",
    "df_pe.loc[(df_pe.admdx_non_op_organsystem == \"Cardiovascular\") & \n",
    "          df_pe.apacheadmissiondx.str.contains(\"Rhythm disturbance\", case=False, regex=False), \"admdx_group_descriptive\"] = \"non_surg_cardio_arrythmia\"\n",
    "df_pe.loc[(df_pe.admdx_non_op_organsystem == \"Cardiovascular\") & (df_pe.admdx_group_descriptive.isna()), \"admdx_group_descriptive\"] = \"non_surg_cardio_other\""
   ]
  },
  {
   "cell_type": "code",
   "execution_count": 76,
   "id": "6f0f5ecd-497c-469b-b856-953e941d3393",
   "metadata": {},
   "outputs": [],
   "source": [
    "# extract organ system\n",
    "def extract_organ_system(row):\n",
    "    parts = row.split('_')\n",
    "    # Check if the string starts with 'non_surg' or 'surgery'\n",
    "    if parts[0] == 'non':\n",
    "        return parts[2]\n",
    "    elif parts[0] == 'surgery':\n",
    "        return \"surgery\"\n",
    "    else:\n",
    "\n",
    "        return None\n",
    "\n",
    "# Applying the function to the DataFrame\n",
    "df_pe['admdx_organ_descriptive'] = df_pe['admdx_group_descriptive'].apply(extract_organ_system)"
   ]
  },
  {
   "cell_type": "markdown",
   "id": "e2113538-ceed-412c-b23c-7adb3326255b",
   "metadata": {},
   "source": [
    "# Export \n"
   ]
  },
  {
   "cell_type": "code",
   "execution_count": 77,
   "id": "9061bf63-6132-4173-9e95-ac518bd58e64",
   "metadata": {},
   "outputs": [],
   "source": [
    "df_pe.to_excel(\"sec_PE_data/secondary_PE_final.xlsx\", index=False)"
   ]
  },
  {
   "cell_type": "code",
   "execution_count": null,
   "id": "d8f60799-78ac-4349-8c2b-37ccae26ab60",
   "metadata": {},
   "outputs": [],
   "source": []
  }
 ],
 "metadata": {
  "kernelspec": {
   "display_name": "Python 3",
   "language": "python",
   "name": "python3"
  },
  "language_info": {
   "codemirror_mode": {
    "name": "ipython",
    "version": 3
   },
   "file_extension": ".py",
   "mimetype": "text/x-python",
   "name": "python",
   "nbconvert_exporter": "python",
   "pygments_lexer": "ipython3",
   "version": "3.9.0"
  }
 },
 "nbformat": 4,
 "nbformat_minor": 5
}
